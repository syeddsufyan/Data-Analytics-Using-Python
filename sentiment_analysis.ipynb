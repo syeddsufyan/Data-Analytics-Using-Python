{
 "cells": [
  {
   "cell_type": "code",
   "execution_count": 28,
   "id": "a64c9593",
   "metadata": {},
   "outputs": [
    {
     "name": "stdout",
     "output_type": "stream",
     "text": [
      "Sentiment: Positive\n"
     ]
    }
   ],
   "source": [
    "from textblob import TextBlob\n",
    "\n",
    "def analyze_sentiment(text):\n",
    "    # Create a TextBlob object\n",
    "    blob = TextBlob(text)\n",
    "    \n",
    "    # Get the sentiment polarity (-1 to 1, where -1 is negative, 0 is neutral, and 1 is positive)\n",
    "    sentiment_polarity = blob.sentiment.polarity\n",
    "    \n",
    "    # Classify sentiment based on polarity\n",
    "    if sentiment_polarity < 0:\n",
    "        return \"Negative\"\n",
    "    elif sentiment_polarity == 0:\n",
    "        return \"Neutral\"\n",
    "    else:\n",
    "        return \"Positive\"\n",
    "\n",
    "# Example text\n",
    "text = \"your food is good.\"\n",
    "\n",
    "# Perform sentiment analysis\n",
    "result = analyze_sentiment(text)\n",
    "print(\"Sentiment:\", result)\n"
   ]
  }
 ],
 "metadata": {
  "kernelspec": {
   "display_name": "Python 3 (ipykernel)",
   "language": "python",
   "name": "python3"
  },
  "language_info": {
   "codemirror_mode": {
    "name": "ipython",
    "version": 3
   },
   "file_extension": ".py",
   "mimetype": "text/x-python",
   "name": "python",
   "nbconvert_exporter": "python",
   "pygments_lexer": "ipython3",
   "version": "3.9.13"
  }
 },
 "nbformat": 4,
 "nbformat_minor": 5
}
