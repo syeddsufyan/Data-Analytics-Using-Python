{
 "cells": [
  {
   "cell_type": "code",
   "execution_count": 15,
   "id": "d578328f",
   "metadata": {
    "scrolled": true
   },
   "outputs": [
    {
     "data": {
      "text/plain": [
       "<AxesSubplot:xlabel='selling_price'>"
      ]
     },
     "execution_count": 15,
     "metadata": {},
     "output_type": "execute_result"
    },
    {
     "data": {
      "image/png": "[encoded data removed]",
      "text/plain": [
       "<Figure size 640x480 with 1 Axes>"
      ]
     },
     "metadata": {},
     "output_type": "display_data"
    }
   ],
   "source": [
    "import os\n",
    "import pandas as pd\n",
    "import numpy as np\n",
    "import seaborn as sns\n",
    "# print(os.getcwd())\n",
    "\n",
    "dataset = r'C:\\Users\\LENOVO\\Desktop\\data_analytics\\Car details v3.csv'\n",
    "df = pd.read_csv(dataset)\n",
    "df.head()\n",
    "# df = df.drop(['torque'], axis=1)\n",
    "# print(df.dtypes)\n",
    "# print(df.shape)\n",
    "duplicate_row = df[df.duplicated()]\n",
    "# print(f'{duplicate_row.shape} Total Duplicated row')\n",
    "df = df.drop_duplicates()\n",
    "df = df.dropna()\n",
    "# df.count()\n",
    "# df.columns\n",
    "# print(df.isnull().sum())\n",
    "sns.boxplot(x=df['selling_price'])"
   ]
  },
  {
   "cell_type": "code",
   "execution_count": 16,
   "id": "89881369",
   "metadata": {},
   "outputs": [
    {
     "name": "stdout",
     "output_type": "stream",
     "text": [
      "year                  6.0\n",
      "selling_price    400000.0\n",
      "km_driven         62000.0\n",
      "seats                 0.0\n",
      "dtype: float64\n"
     ]
    },
    {
     "data": {
      "text/html": [
       "<div>\n",
       "<style scoped>\n",
       "    .dataframe tbody tr th:only-of-type {\n",
       "        vertical-align: middle;\n",
       "    }\n",
       "\n",
       "    .dataframe tbody tr th {\n",
       "        vertical-align: top;\n",
       "    }\n",
       "\n",
       "    .dataframe thead th {\n",
       "        text-align: right;\n",
       "    }\n",
       "</style>\n",
       "<table border=\"1\" class=\"dataframe\">\n",
       "  <thead>\n",
       "    <tr style=\"text-align: right;\">\n",
       "      <th></th>\n",
       "      <th>year</th>\n",
       "      <th>selling_price</th>\n",
       "      <th>km_driven</th>\n",
       "      <th>seats</th>\n",
       "    </tr>\n",
       "  </thead>\n",
       "  <tbody>\n",
       "    <tr>\n",
       "      <th>year</th>\n",
       "      <td>1.000000</td>\n",
       "      <td>0.427335</td>\n",
       "      <td>-0.387918</td>\n",
       "      <td>0.025021</td>\n",
       "    </tr>\n",
       "    <tr>\n",
       "      <th>selling_price</th>\n",
       "      <td>0.427335</td>\n",
       "      <td>1.000000</td>\n",
       "      <td>-0.161265</td>\n",
       "      <td>0.158531</td>\n",
       "    </tr>\n",
       "    <tr>\n",
       "      <th>km_driven</th>\n",
       "      <td>-0.387918</td>\n",
       "      <td>-0.161265</td>\n",
       "      <td>1.000000</td>\n",
       "      <td>0.207890</td>\n",
       "    </tr>\n",
       "    <tr>\n",
       "      <th>seats</th>\n",
       "      <td>0.025021</td>\n",
       "      <td>0.158531</td>\n",
       "      <td>0.207890</td>\n",
       "      <td>1.000000</td>\n",
       "    </tr>\n",
       "  </tbody>\n",
       "</table>\n",
       "</div>"
      ],
      "text/plain": [
       "                   year  selling_price  km_driven     seats\n",
       "year           1.000000       0.427335  -0.387918  0.025021\n",
       "selling_price  0.427335       1.000000  -0.161265  0.158531\n",
       "km_driven     -0.387918      -0.161265   1.000000  0.207890\n",
       "seats          0.025021       0.158531   0.207890  1.000000"
      ]
     },
     "execution_count": 16,
     "metadata": {},
     "output_type": "execute_result"
    }
   ],
   "source": [
    "Q1 = df.quantile(0.25)\n",
    "Q3 = df.quantile(0.75)\n",
    "IQR = Q3 - Q1\n",
    "# IQR = Q3 - Q1\n",
    "print(IQR)\n",
    "numeric_columns = df.select_dtypes(include=['int', 'float'])\n",
    "# Calculate median for each numeric column\n",
    "# medians = numeric_columns.median()\n",
    "# print(medians)\n",
    "df.corr()"
   ]
  },
  {
   "cell_type": "code",
   "execution_count": null,
   "id": "59a9adcd",
   "metadata": {},
   "outputs": [],
   "source": []
  }
 ],
 "metadata": {
  "kernelspec": {
   "display_name": "Python 3 (ipykernel)",
   "language": "python",
   "name": "python3"
  },
  "language_info": {
   "codemirror_mode": {
    "name": "ipython",
    "version": 3
   },
   "file_extension": ".py",
   "mimetype": "text/x-python",
   "name": "python",
   "nbconvert_exporter": "python",
   "pygments_lexer": "ipython3",
   "version": "3.9.13"
  }
 },
 "nbformat": 4,
 "nbformat_minor": 5
}
