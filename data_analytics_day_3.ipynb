{
 "cells": [
  {
   "cell_type": "code",
   "execution_count": 22,
   "id": "3b92ee55",
   "metadata": {},
   "outputs": [
    {
     "name": "stdout",
     "output_type": "stream",
     "text": [
      "[1 4 5]\n",
      "Our Array is\n",
      "[[ 0  1  2]\n",
      " [ 3  4  5]\n",
      " [ 6  7  8]\n",
      " [ 9 10 11]]\n",
      "The corner elements of this array are\n",
      "[[ 0  2]\n",
      " [ 9 11]]\n"
     ]
    }
   ],
   "source": [
    "\n",
    "import numpy as np\n",
    "\n",
    "x = np.array([[1,2], [3,4], [5,6]])\n",
    "y = x[[0,1,2], [0,1,0]] # Row [0,1,2] Column [0,1,0] \n",
    "print(y)\n",
    "\n",
    "z = np.array([[0,1,2], \n",
    "              [3,4,5], \n",
    "              [6,7,8], \n",
    "              [9,10,11]])\n",
    "print('Our Array is')\n",
    "print(z)\n",
    "\n",
    "row = np.array([[0,0], [3,3]])\n",
    "cols = np.array([[0,2], [0,2]])\n",
    "a = z[row, cols]\n",
    "print('The corner elements of this array are')\n",
    "print(a)"
   ]
  },
  {
   "cell_type": "code",
   "execution_count": 20,
   "id": "60f150e9",
   "metadata": {},
   "outputs": [
    {
     "name": "stdout",
     "output_type": "stream",
     "text": [
      "Selected elements:\n",
      "[60 70]\n"
     ]
    }
   ],
   "source": [
    "import numpy as np\n",
    "\n",
    "# Create the 2D array\n",
    "z = np.array([[10, 20, 30],\n",
    "              [40, 50, 60],\n",
    "              [70, 80, 90]])\n",
    "\n",
    "# Define row and column indices for the elements you want to extract\n",
    "row_indices = np.array([1, 2])  # Rows 1 and 2 (0-based index)\n",
    "col_indices = np.array([2, 0])  # Columns 2 and 0 (0-based index)\n",
    "\n",
    "# Use the row and column indices to extract elements from the array\n",
    "selected_elements = z[row_indices, col_indices]\n",
    "\n",
    "# Display the selected elements\n",
    "print(\"Selected elements:\")\n",
    "print(selected_elements)\n"
   ]
  },
  {
   "cell_type": "code",
   "execution_count": 26,
   "id": "9309035a",
   "metadata": {},
   "outputs": [
    {
     "name": "stdout",
     "output_type": "stream",
     "text": [
      "[ 10.          17.7827941   31.6227766   56.23413252 100.        ]\n"
     ]
    }
   ],
   "source": [
    "import numpy as np\n",
    "a = np.logspace(1.0, 2.0, num=5)\n",
    "print(a)"
   ]
  },
  {
   "cell_type": "code",
   "execution_count": 39,
   "id": "2d9056ca",
   "metadata": {},
   "outputs": [
    {
     "name": "stdout",
     "output_type": "stream",
     "text": [
      "[10. 12. 14. 16. 18.]\n"
     ]
    }
   ],
   "source": [
    "import numpy as np\n",
    "x = np.linspace(10,20,5, endpoint=False)\n",
    "print(x)"
   ]
  }
 ],
 "metadata": {
  "kernelspec": {
   "display_name": "Python 3 (ipykernel)",
   "language": "python",
   "name": "python3"
  },
  "language_info": {
   "codemirror_mode": {
    "name": "ipython",
    "version": 3
   },
   "file_extension": ".py",
   "mimetype": "text/x-python",
   "name": "python",
   "nbconvert_exporter": "python",
   "pygments_lexer": "ipython3",
   "version": "3.9.13"
  }
 },
 "nbformat": 4,
 "nbformat_minor": 5
}
