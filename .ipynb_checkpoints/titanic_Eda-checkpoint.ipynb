{
 "cells": [
  {
   "cell_type": "code",
   "execution_count": 42,
   "id": "8db11c17",
   "metadata": {},
   "outputs": [
    {
     "data": {
      "text/plain": [
       "PassengerId    183\n",
       "Survived       183\n",
       "Pclass         183\n",
       "Name           183\n",
       "Sex            183\n",
       "Age            183\n",
       "SibSp          183\n",
       "Parch          183\n",
       "Ticket         183\n",
       "Fare           183\n",
       "Cabin          183\n",
       "Embarked       183\n",
       "dtype: int64"
      ]
     },
     "execution_count": 42,
     "metadata": {},
     "output_type": "execute_result"
    }
   ],
   "source": [
    "import os\n",
    "import pandas as pd\n",
    "import numpy as np\n",
    "import seaborn as sns\n",
    "import matplotlib.pyplot as plt\n",
    "from sklearn.ensemble import RandomForestClassifier\n",
    "\n",
    "os.chdir('F:\\\\')\n",
    "# print(os.getcwd())\n",
    "dataset = 'titanic_data.csv'\n",
    "df = pd.read_csv(dataset)\n",
    "# df.head()\n",
    "df = df.dropna()\n",
    "# print(df.isnull().sum())\n",
    "df.count()\n",
    "# def find_gender(gender):\n",
    "#     gender = df[df['Sex'] == gender]['Survived']\n",
    "#     rate_of_gender = sum(gender)/len(gender)\n",
    "#     return rate_of_gender\n",
    "\n",
    "# print(\"% of male who survived:\", find_gender('male'))\n",
    "# print(\"% of female who survived:\", find_gender('female'))\n",
    "\n",
    "# y = df[\"Survived\"]\n",
    "\n",
    "# features = [\"Pclass\", \"Sex\", \"SibSp\", \"Parch\"]\n",
    "# X = pd.get_dummies(df[features])\n",
    "# X_test = pd.get_dummies(df[features])\n",
    "\n",
    "# model = RandomForestClassifier(n_estimators=100, max_depth=5, random_state=1)\n",
    "# model.fit(X, y)\n",
    "# predictions = model.predict(X_test)\n",
    "\n",
    "# output = pd.DataFrame({'PassengerId': df.PassengerId, 'Survived': predictions})\n",
    "# output.tail()\n",
    "# output.to_csv('submission.csv', index=False)"
   ]
  }
 ],
 "metadata": {
  "kernelspec": {
   "display_name": "Python 3 (ipykernel)",
   "language": "python",
   "name": "python3"
  },
  "language_info": {
   "codemirror_mode": {
    "name": "ipython",
    "version": 3
   },
   "file_extension": ".py",
   "mimetype": "text/x-python",
   "name": "python",
   "nbconvert_exporter": "python",
   "pygments_lexer": "ipython3",
   "version": "3.9.13"
  }
 },
 "nbformat": 4,
 "nbformat_minor": 5
}
