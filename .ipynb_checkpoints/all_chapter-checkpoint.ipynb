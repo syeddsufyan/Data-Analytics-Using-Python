{
 "cells": [
  {
   "cell_type": "code",
   "execution_count": 53,
   "id": "4f691022",
   "metadata": {},
   "outputs": [
    {
     "name": "stdout",
     "output_type": "stream",
     "text": [
      "[2 4 6]\n"
     ]
    }
   ],
   "source": [
    "import numpy as np\n",
    "\n",
    "a = np.arange(10)\n",
    "s = slice(2,7,2)\n",
    "print(a[s])"
   ]
  },
  {
   "cell_type": "code",
   "execution_count": 54,
   "id": "31fb3b49",
   "metadata": {},
   "outputs": [
    {
     "name": "stdout",
     "output_type": "stream",
     "text": [
      "[[1 2 3]\n",
      " [3 4 5]\n",
      " [4 5 6]]\n",
      "Now we will slice the array from the index a[1:]\n",
      "[[3 4 5]\n",
      " [4 5 6]]\n"
     ]
    }
   ],
   "source": [
    "\n",
    "import numpy as np\n",
    "a = np.array([[1,2,3], \n",
    "              [3,4,5],\n",
    "              [4,5,6]])\n",
    "print(a)\n",
    "\n",
    "print('Now we will slice the array from the index a[1:]')\n",
    "print(a[1:])"
   ]
  },
  {
   "cell_type": "code",
   "execution_count": 55,
   "id": "9709f326",
   "metadata": {},
   "outputs": [
    {
     "name": "stdout",
     "output_type": "stream",
     "text": [
      "[[1 2 3]\n",
      " [3 4 5]\n",
      " [5 6 7]]\n",
      "[2 4 6]\n",
      "[3 4 5]\n",
      "[[2 3]\n",
      " [4 5]\n",
      " [6 7]]\n",
      "[[3 4 5]\n",
      " [5 6 7]]\n"
     ]
    }
   ],
   "source": [
    "# Ellipsis\n",
    "\n",
    "import numpy as np\n",
    "a = np.array([[1,2,3],\n",
    "             [3,4,5],\n",
    "             [5,6,7]])\n",
    "print(a)\n",
    "\n",
    "print(a[...,1])\n",
    "\n",
    "print(a[1,...])\n",
    "\n",
    "print(a[...,1:])\n",
    "\n",
    "print(a[1:,...])"
   ]
  },
  {
   "cell_type": "code",
   "execution_count": 56,
   "id": "5ca48b1b",
   "metadata": {
    "scrolled": true
   },
   "outputs": [
    {
     "name": "stdout",
     "output_type": "stream",
     "text": [
      "[1 4 5]\n",
      "Our array is:\n",
      "[[ 0  1  2]\n",
      " [ 3  4  5]\n",
      " [ 6  7  8]\n",
      " [ 9 10 11]]\n",
      "\n",
      "\n",
      "The corner element of this array are\n",
      "[[ 0  2]\n",
      " [ 9 11]]\n"
     ]
    }
   ],
   "source": [
    "import numpy as np\n",
    "\n",
    "x = np.array([[1,2],[3,4],[5,6]])\n",
    "y = x[[0,1,2],[0,1,0]] # Row Column\n",
    "print(y)\n",
    "\n",
    "x = np.array([[0,1,2], [3,4,5], [6,7,8], [9,10,11]])\n",
    "\n",
    "print('Our array is:')\n",
    "print(x)\n",
    "\n",
    "print('\\n')\n",
    "rows = np.array([[0,0], [3,3]])\n",
    "cols = np.array([[0,2], [0,2]])\n",
    "y = x[rows, cols]\n",
    "\n",
    "print('The corner element of this array are')\n",
    "print(y)"
   ]
  },
  {
   "cell_type": "code",
   "execution_count": 57,
   "id": "eb1be107",
   "metadata": {
    "scrolled": true
   },
   "outputs": [
    {
     "name": "stdout",
     "output_type": "stream",
     "text": [
      "[1 4 5]\n",
      "Our array is:\n",
      "[[ 0  1  2]\n",
      " [ 3  4  5]\n",
      " [ 6  7  8]\n",
      " [ 9 10 11]]\n",
      "Slicing using advanced index for column:\n",
      "[[ 4  5]\n",
      " [ 7  8]\n",
      " [10 11]]\n"
     ]
    }
   ],
   "source": [
    "import numpy as np\n",
    "\n",
    "x = np.array([[1,2],[3,4],[5,6]])\n",
    "y = x[[0,1,2],[0,1,0]] # Row Column\n",
    "print(y)\n",
    "\n",
    "x = np.array([[0,1,2], [3,4,5], [6,7,8], [9,10,11]])\n",
    "\n",
    "print('Our array is:')\n",
    "print(x)\n",
    "\n",
    "# z = x[1:4, 1:3]\n",
    "# print(z)\n",
    "\n",
    "y = x[1:4, [1,2]]\n",
    "print('Slicing using advanced index for column:')\n",
    "print(y)\n"
   ]
  },
  {
   "cell_type": "code",
   "execution_count": 6,
   "id": "4632b7d9",
   "metadata": {},
   "outputs": [
    {
     "name": "stdout",
     "output_type": "stream",
     "text": [
      "Original array is:\n",
      "[[ 0  5 10 15]\n",
      " [20 25 30 35]\n",
      " [40 45 50 55]]\n",
      "\n",
      "\n",
      "Modified array is:\n",
      "This is Not Valid Value \n",
      "5\n",
      "10\n",
      "15\n",
      "20\n",
      "25\n",
      "30\n",
      "35\n",
      "40\n",
      "45\n",
      "50\n",
      "55\n"
     ]
    }
   ],
   "source": [
    "import numpy as np\n",
    "\n",
    "a = np.arange(0,60,5)\n",
    "a = a.reshape(3,4)\n",
    "\n",
    "print('Original array is:')\n",
    "print(a)\n",
    "print('\\n')\n",
    "\n",
    "print('Modified array is:')\n",
    "for x in np.nditer(a):\n",
    "    if x == 0:\n",
    "        print('This is Not Valid Value ')\n",
    "    else:\n",
    "        print(x)\n"
   ]
  },
  {
   "cell_type": "code",
   "execution_count": 59,
   "id": "0a5f1fd6",
   "metadata": {},
   "outputs": [
    {
     "name": "stdout",
     "output_type": "stream",
     "text": [
      "Original array is:\n",
      "[[ 0  5 10 15]\n",
      " [20 25 30 35]\n",
      " [40 45 50 55]]\n",
      "\n",
      "\n",
      "Transpose array\n",
      "[[ 0 20 40]\n",
      " [ 5 25 45]\n",
      " [10 30 50]\n",
      " [15 35 55]]\n",
      "\n",
      "\n",
      "Modified array is:\n",
      "0\n",
      "5\n",
      "10\n",
      "15\n",
      "20\n",
      "25\n",
      "30\n",
      "35\n",
      "40\n",
      "45\n",
      "50\n",
      "55\n"
     ]
    }
   ],
   "source": [
    "import numpy as np\n",
    "\n",
    "a = np.arange(0,60,5)\n",
    "a = a.reshape(3,4)\n",
    "\n",
    "print('Original array is:')\n",
    "print(a)\n",
    "print('\\n')\n",
    "\n",
    "print('Transpose array')\n",
    "b = a.T\n",
    "print(b)\n",
    "print('\\n')\n",
    "\n",
    "print('Modified array is:')\n",
    "for x in np.nditer(a):\n",
    "    print(x)\n"
   ]
  },
  {
   "cell_type": "code",
   "execution_count": 60,
   "id": "a7057e80",
   "metadata": {},
   "outputs": [
    {
     "name": "stdout",
     "output_type": "stream",
     "text": [
      "[[3 7 5]\n",
      " [8 4 3]\n",
      " [2 4 9]]\n",
      "Our Appliying ptp\n",
      "[6 3 6]\n"
     ]
    }
   ],
   "source": [
    "import numpy as np\n",
    "\n",
    "a = np.array([[3,7,5], [8,4,3], [2,4,9]])\n",
    "print(a)\n",
    "\n",
    "print('Our Appliying ptp')\n",
    "b = np.ptp(a, axis=0)\n",
    "print(b)"
   ]
  },
  {
   "cell_type": "code",
   "execution_count": 61,
   "id": "b2d12994",
   "metadata": {},
   "outputs": [
    {
     "name": "stdout",
     "output_type": "stream",
     "text": [
      "[[30 40 70]\n",
      " [80 20 10]\n",
      " [50 90 60]]\n",
      "[50. 40. 60.]\n"
     ]
    }
   ],
   "source": [
    "import numpy as np\n",
    "\n",
    "a = np.array([[30,40,70], [80,20,10], [50,90,60]])\n",
    "print(a)\n",
    "\n",
    "print(np.percentile(a,50, axis=0))"
   ]
  },
  {
   "cell_type": "code",
   "execution_count": 62,
   "id": "8d4f58a5",
   "metadata": {},
   "outputs": [
    {
     "name": "stdout",
     "output_type": "stream",
     "text": [
      "[[3 7]\n",
      " [9 1]]\n",
      "\n",
      "\n",
      "[[3 7]\n",
      " [1 9]]\n",
      "\n",
      "\n",
      "Our Sort X Axis\n",
      "[[3 1]\n",
      " [9 7]]\n"
     ]
    }
   ],
   "source": [
    "import numpy as np\n",
    "\n",
    "a = np.array([[3,7], [9,1]])\n",
    "print(a)\n",
    "print('\\n')\n",
    "\n",
    "print(np.sort(a))\n",
    "print('\\n')\n",
    "\n",
    "print('Our Sort X Axis')\n",
    "print(np.sort(a, axis=0))"
   ]
  },
  {
   "cell_type": "code",
   "execution_count": 63,
   "id": "ceae9c12",
   "metadata": {},
   "outputs": [
    {
     "name": "stdout",
     "output_type": "stream",
     "text": [
      "Our Array In\n",
      "[(b'raju', 21) (b'anil', 25) (b'ravi', 17) (b'amar', 27)]\n",
      "Order By Name\n",
      "[(b'ravi', 17) (b'raju', 21) (b'anil', 25) (b'amar', 27)]\n"
     ]
    }
   ],
   "source": [
    "import numpy as np\n",
    "\n",
    "dt =(np.dtype([('name', 'S10'), ('age', 'int')]))\n",
    "a = np.array([('raju', 21), ('anil', 25), ('ravi', 17), ('amar', 27)], dtype=dt)\n",
    "print('Our Array In')\n",
    "print(a)\n",
    "\n",
    "print('Order By Name')\n",
    "print(np.sort(a, order='age'))"
   ]
  },
  {
   "cell_type": "code",
   "execution_count": 64,
   "id": "fd6313df",
   "metadata": {},
   "outputs": [
    {
     "name": "stdout",
     "output_type": "stream",
     "text": [
      "Our array is\n",
      "[ 3  1 15  2]\n",
      "\n",
      "\n",
      "apply argsort to x\n",
      "[1 3 0 2]\n",
      "\n",
      "\n",
      "[ 1  2  3 15]\n",
      "1\n",
      "2\n",
      "3\n",
      "15\n"
     ]
    }
   ],
   "source": [
    "import numpy as np\n",
    "\n",
    "x = np.array([3,1,15,2])\n",
    "print('Our array is')\n",
    "print(x)\n",
    "print('\\n')\n",
    "\n",
    "print('apply argsort to x')\n",
    "y = np.argsort(x)\n",
    "print(y)\n",
    "print('\\n')\n",
    "\n",
    "print(x[y])\n",
    "for i in y:\n",
    "    print(x[i])"
   ]
  },
  {
   "cell_type": "code",
   "execution_count": 65,
   "id": "dd65eaa9",
   "metadata": {},
   "outputs": [
    {
     "name": "stdout",
     "output_type": "stream",
     "text": [
      "Applying lexsort() function\n",
      "[3 1 0 2]\n",
      "\n",
      "\n",
      "[[30 40 70]\n",
      " [80 20 10]\n",
      " [50 90 60]]\n",
      "0\n",
      "2\n",
      "0\n",
      "[0 1 1]\n",
      "Use this index to get sorted data:\n",
      "['amar, f.y.', 'anil, s.y.', 'raju, f.y.', 'ravi, s.y.']\n"
     ]
    }
   ],
   "source": [
    "import numpy as np\n",
    "\n",
    "nm = ('raju', 'anil', 'ravi', 'amar')\n",
    "dv = ('f.y.', 's.y.', 's.y.', 'f.y.')\n",
    "ind = np.lexsort((dv,nm))\n",
    "\n",
    "print('Applying lexsort() function')\n",
    "print(ind)\n",
    "print('\\n')\n",
    "import numpy as np\n",
    "a = np.array([[30,40,70], [80,20,10], [50,90,60]])\n",
    "\n",
    "print(a)\n",
    "for i in a:\n",
    "    print(np.argmin(i, axis=0))\n",
    "print(np.argmin(a, axis=0))\n",
    "print('Use this index to get sorted data:')\n",
    "print([nm[i] + \", \" + dv[i] for i in ind])"
   ]
  },
  {
   "cell_type": "code",
   "execution_count": 66,
   "id": "97b443bc",
   "metadata": {},
   "outputs": [
    {
     "name": "stdout",
     "output_type": "stream",
     "text": [
      "[[30 40 70]\n",
      " [80 20 10]\n",
      " [50 90 60]]\n",
      "0\n",
      "2\n",
      "0\n",
      "[0 1 1]\n"
     ]
    }
   ],
   "source": [
    "import numpy as np\n",
    "a = np.array([[30,40,70], [80,20,10], [50,90,60]])\n",
    "\n",
    "print(a)\n",
    "for i in a:\n",
    "    print(np.argmin(i, axis=0))\n",
    "print(np.argmin(a, axis=0))"
   ]
  },
  {
   "cell_type": "code",
   "execution_count": 67,
   "id": "f7577d9c",
   "metadata": {},
   "outputs": [
    {
     "name": "stdout",
     "output_type": "stream",
     "text": [
      "[[ 1  2  7  9  5]\n",
      " [19 28 26 82 10]]\n",
      "\n",
      "\n",
      "[1 1 1 1 1]\n"
     ]
    }
   ],
   "source": [
    "import numpy as np\n",
    "j = np.array([[1,2,7,9,5], [19,28,26,82,10]])\n",
    "print(j)\n",
    "print('\\n')\n",
    "i = np.argmax(j, axis=0) # axis 0 by column axis 1 by row\n",
    "print(i)\n"
   ]
  },
  {
   "cell_type": "code",
   "execution_count": 68,
   "id": "e6e6433c",
   "metadata": {},
   "outputs": [
    {
     "name": "stdout",
     "output_type": "stream",
     "text": [
      "Our array is\n",
      "[[0. 1. 2.]\n",
      " [3. 4. 5.]\n",
      " [6. 7. 8.]]\n",
      "indices of element > 3\n",
      "(array([2], dtype=int64), array([2], dtype=int64))\n",
      "use ther indics of get element\n",
      "[8.]\n"
     ]
    }
   ],
   "source": [
    "import numpy as np\n",
    "\n",
    "x = np.arange(9.).reshape(3,3)\n",
    "print('Our array is')\n",
    "print(x)\n",
    "\n",
    "print('indices of element > 3')\n",
    "y = np.where(x > 7)\n",
    "print(y)\n",
    "\n",
    "print('use ther indics of get element')\n",
    "print(x[y])"
   ]
  },
  {
   "cell_type": "code",
   "execution_count": 69,
   "id": "f43f6053",
   "metadata": {},
   "outputs": [
    {
     "name": "stdout",
     "output_type": "stream",
     "text": [
      "Our array is\n",
      "[[0. 1. 2.]\n",
      " [3. 4. 5.]\n",
      " [6. 7. 8.]]\n",
      "Extract-wisa value of condition\n",
      "[[ True False  True]\n",
      " [False  True False]\n",
      " [ True False  True]]\n",
      "Extract elements using condition\n",
      "[0. 2. 4. 6. 8.]\n"
     ]
    }
   ],
   "source": [
    "import numpy as np\n",
    "\n",
    "x = np.arange(9.).reshape(3,3)\n",
    "print('Our array is')\n",
    "print(x)\n",
    "\n",
    "condition = np.mod(x,2) == 0\n",
    "\n",
    "print('Extract-wisa value of condition')\n",
    "print(condition)\n",
    "   \n",
    "print('Extract elements using condition')\n",
    "print(np.extract(condition, x))"
   ]
  },
  {
   "cell_type": "code",
   "execution_count": 70,
   "id": "8837e337",
   "metadata": {},
   "outputs": [
    {
     "name": "stdout",
     "output_type": "stream",
     "text": [
      "Array a is\n",
      "[[10 10]\n",
      " [ 2  3]\n",
      " [ 4  5]]\n",
      "Create a deep copy of a \n",
      "Array b is\n",
      "[[10 10]\n",
      " [ 2  3]\n",
      " [ 4  5]]\n",
      "Can we write b is a\n",
      "False\n",
      "Change the contents of b\n",
      "Modified array b:\n",
      "[[ 10  10]\n",
      " [100   3]\n",
      " [  4   5]]\n",
      "a remains unchanged \n",
      "[[10 10]\n",
      " [ 2  3]\n",
      " [ 4  5]]\n"
     ]
    }
   ],
   "source": [
    "import numpy as np\n",
    "\n",
    "a = np.array([[10,10], [2,3], [4,5]])\n",
    "print('Array a is')\n",
    "print(a)\n",
    "\n",
    "print('Create a deep copy of a ')\n",
    "b = a.copy()\n",
    "print('Array b is')\n",
    "print(b)\n",
    "\n",
    "print('Can we write b is a')\n",
    "print(b is a)\n",
    "print('Change the contents of b')\n",
    "b[1,0] = 100\n",
    "\n",
    "print('Modified array b:')\n",
    "print(b)\n",
    "\n",
    "print('a remains unchanged ')\n",
    "print(a)"
   ]
  },
  {
   "cell_type": "code",
   "execution_count": 71,
   "id": "f5f20b66",
   "metadata": {},
   "outputs": [
    {
     "data": {
      "image/png": "[encoded data removed]",
      "text/plain": [
       "<Figure size 640x480 with 1 Axes>"
      ]
     },
     "metadata": {},
     "output_type": "display_data"
    }
   ],
   "source": [
    "import numpy as np\n",
    "from matplotlib import pyplot as plt\n",
    "\n",
    "x = np.arange(1,11)\n",
    "y = 2 * x + 5\n",
    "plt.title('Matplotlib demo')\n",
    "plt.xlabel('x axis caption')\n",
    "plt.ylabel('y axis ')\n",
    "plt.plot(x,y, \"*k\")\n",
    "plt.show()"
   ]
  },
  {
   "cell_type": "code",
   "execution_count": 72,
   "id": "d0297540",
   "metadata": {},
   "outputs": [
    {
     "data": {
      "image/png": "[encoded data removed]",
      "text/plain": [
       "<Figure size 640x480 with 1 Axes>"
      ]
     },
     "metadata": {},
     "output_type": "display_data"
    }
   ],
   "source": [
    "from matplotlib import pyplot as plt\n",
    "\n",
    "x = [5,8,10]\n",
    "y = [12,16,6]\n",
    "\n",
    "x2 = [6,9,11]\n",
    "y2 = [6,15,7]\n",
    "plt.bar(x,y, align=\"center\")\n",
    "plt.bar(x2, y2, color=\"g\", align=\"center\")\n",
    "plt.title('Bar Graph')\n",
    "plt.ylabel('Y axis')\n",
    "plt.xlabel('X axis')\n",
    "\n",
    "plt.show()"
   ]
  },
  {
   "cell_type": "code",
   "execution_count": 73,
   "id": "04bef07c",
   "metadata": {},
   "outputs": [
    {
     "name": "stdout",
     "output_type": "stream",
     "text": [
      "[1 2 3 4 5]\n",
      "File Has Been Load\n"
     ]
    }
   ],
   "source": [
    "import numpy as np\n",
    "\n",
    "# a = np.array([1,2,3,4,5])\n",
    "# np.save('outline', a)\n",
    "# print('File Has Been Save')\n",
    "\n",
    "a = np.load('outline.npy')\n",
    "print(a)\n",
    "print('File Has Been Load')"
   ]
  },
  {
   "cell_type": "code",
   "execution_count": 74,
   "id": "64c7fa6b",
   "metadata": {},
   "outputs": [
    {
     "name": "stdout",
     "output_type": "stream",
     "text": [
      "b    1.0\n",
      "c    2.0\n",
      "d    NaN\n",
      "a    0.0\n",
      "dtype: float64\n"
     ]
    }
   ],
   "source": [
    "import pandas as pd\n",
    "import numpy as np\n",
    "# b = 'muhaamd qasim'\n",
    "# a = {\n",
    "#      'age' : 20.,\n",
    "#      'name' : f'{b} ali',\n",
    "#      'education' : 12.\n",
    "#     }\n",
    "# data = np.array([\"a\", \"b\", \"c\", \"d\"])\n",
    "# s = pd.Series(data)\n",
    "# print(s)\n",
    "\n",
    "data = {\n",
    "         'a' : 0.,\n",
    "         'b' : 1.,\n",
    "         'c' : 2.,\n",
    "       }\n",
    "\n",
    "a = pd.Series(data, index=['b','c','d','a'])\n",
    "print(a)"
   ]
  },
  {
   "cell_type": "code",
   "execution_count": 75,
   "id": "06111d89",
   "metadata": {},
   "outputs": [
    {
     "name": "stdout",
     "output_type": "stream",
     "text": [
      "c    3\n",
      "d    4\n",
      "e    5\n",
      "dtype: int64\n"
     ]
    }
   ],
   "source": [
    "import numpy as np\n",
    "import pandas as pd\n",
    "\n",
    "data = [1,2,3,4,5]\n",
    "a = pd.Series(data, index=['a','b','c','d','e'])\n",
    "print(a[-3:])"
   ]
  },
  {
   "cell_type": "code",
   "execution_count": 20,
   "id": "4e044132",
   "metadata": {},
   "outputs": [
    {
     "name": "stdout",
     "output_type": "stream",
     "text": [
      "   0\n",
      "a  1\n",
      "b  2\n",
      "c  3\n",
      "d  4\n",
      "e  5\n"
     ]
    }
   ],
   "source": [
    "import pandas as pd\n",
    "import numpy as np\n",
    "\n",
    "data = [1,2,3,4,5]\n",
    "df = pd.DataFrame(data, index=['a','b','c','d','e'])\n",
    "print(df)"
   ]
  },
  {
   "cell_type": "code",
   "execution_count": 21,
   "id": "fb8ff1f8",
   "metadata": {
    "scrolled": true
   },
   "outputs": [
    {
     "name": "stdout",
     "output_type": "stream",
     "text": [
      "     Name   Age\n",
      "0    Alex  10.0\n",
      "1     Bob  12.0\n",
      "2  Clarke  13.0\n"
     ]
    },
    {
     "name": "stderr",
     "output_type": "stream",
     "text": [
      "C:\\Users\\LENOVO\\AppData\\Local\\Temp\\ipykernel_11864\\2462392934.py:4: FutureWarning: Could not cast to float64, falling back to object. This behavior is deprecated. In a future version, when a dtype is passed to 'DataFrame', either all columns will be cast to that dtype, or a TypeError will be raised.\n",
      "  df = pd.DataFrame(data, columns=['Name', 'Age'], dtype=float)\n"
     ]
    }
   ],
   "source": [
    "import pandas as pd\n",
    "\n",
    "data = [['Alex',10], ['Bob', 12], ['Clarke', 13]]\n",
    "df = pd.DataFrame(data, columns=['Name', 'Age'], dtype=float)\n",
    "print(df)"
   ]
  },
  {
   "cell_type": "code",
   "execution_count": 26,
   "id": "64c20d14",
   "metadata": {},
   "outputs": [
    {
     "name": "stdout",
     "output_type": "stream",
     "text": [
      "   Age    Name\n",
      "0   20  Kashif\n",
      "1   23   Rafay\n",
      "2   19   Azain\n",
      "3   34  Salman\n"
     ]
    }
   ],
   "source": [
    "import pandas as pd\n",
    "\n",
    "data = {\n",
    "        'Name' : ['Kashif', 'Rafay', 'Azain', 'Salman'],\n",
    "        'Age' : [20, 23, 19, 34]\n",
    "       }\n",
    "df = pd.DataFrame(data, columns=['Age', 'Name'])\n",
    "print(df)"
   ]
  },
  {
   "cell_type": "code",
   "execution_count": 34,
   "id": "705b0fc7",
   "metadata": {},
   "outputs": [
    {
     "name": "stdout",
     "output_type": "stream",
     "text": [
      "        a   b     c\n",
      "First   1   2   NaN\n",
      "Second  5  10  20.0\n"
     ]
    }
   ],
   "source": [
    "import pandas as pd\n",
    "\n",
    "data = [{'a' : 1, 'b' : 2}, {'a' : 5, 'b' : 10, 'c' : 20}]\n",
    "df = pd.DataFrame(data, index=['First', 'Second'])\n",
    "print(df)"
   ]
  },
  {
   "cell_type": "code",
   "execution_count": 5,
   "id": "12881f32",
   "metadata": {},
   "outputs": [
    {
     "name": "stdout",
     "output_type": "stream",
     "text": [
      "   a   b\n",
      "0  1   2\n",
      "1  5  10\n",
      "   a   b\n",
      "0  1   2\n",
      "1  5  10\n"
     ]
    }
   ],
   "source": [
    "import pandas as pd\n",
    "\n",
    "data = [{'a' : 1 , 'b' : 2}, {'a' : 5, 'b' : 10, 'c' : 20}]\n",
    "\n",
    "df1 = pd.DataFrame(data, index=None, columns=['a', 'b'])\n",
    "df2 = pd.DataFrame(data, index=None, columns=['a', 'b1'])\n",
    "\n",
    "print(df1)\n",
    "print(df1)"
   ]
  },
  {
   "cell_type": "code",
   "execution_count": 81,
   "id": "2be124b4",
   "metadata": {},
   "outputs": [
    {
     "name": "stdout",
     "output_type": "stream",
     "text": [
      "   0\n",
      "a  1\n",
      "b  2\n",
      "c  3\n"
     ]
    }
   ],
   "source": [
    "import pandas as pd\n",
    "\n",
    "d = {'one' : pd.Series([1,2,3], index=['a', 'b', 'c']),\n",
    "     'two' : pd.Series([1,2,3,4], index=['a', 'b', 'c', 'd'])}\n",
    "a = pd.DataFrame(d['one'])\n",
    "print(a,)"
   ]
  },
  {
   "cell_type": "code",
   "execution_count": 82,
   "id": "b821c18b",
   "metadata": {},
   "outputs": [
    {
     "name": "stdout",
     "output_type": "stream",
     "text": [
      "   one  two  three  four  five\n",
      "a  1.0    1   10.0  11.0   9.0\n",
      "b  2.0    2   20.0  22.0  18.0\n",
      "c  3.0    3   30.0  33.0  27.0\n",
      "d  NaN    4    NaN   NaN   NaN\n"
     ]
    }
   ],
   "source": [
    "import pandas as pd\n",
    "\n",
    "d = {'one' : pd.Series([1,2,3], index=['a', 'b', 'c']),\n",
    "     'two' : pd.Series([1,2,3,4], index=['a', 'b', 'c', 'd'])}\n",
    "df = pd.DataFrame(d)\n",
    "df['three'] = pd.Series([10,20,30], index=['a', 'b', 'c'])\n",
    "df['four'] = df['one']+df['three']\n",
    "df['five'] = df['three']-df['one']\n",
    "print(df)"
   ]
  },
  {
   "cell_type": "code",
   "execution_count": 83,
   "id": "6bffcfa0",
   "metadata": {},
   "outputs": [
    {
     "name": "stdout",
     "output_type": "stream",
     "text": [
      "one    3.0\n",
      "two    3.0\n",
      "Name: c, dtype: float64\n"
     ]
    }
   ],
   "source": [
    "import pandas as pd\n",
    "\n",
    "d = {'one' : pd.Series([1,2,3], index=['a', 'b', 'c']),\n",
    "     'two' : pd.Series([1,2,3,4], index=['a', 'b', 'c', 'd'])}\n",
    "df = pd.DataFrame(d)\n",
    "print(df.iloc[2])"
   ]
  },
  {
   "cell_type": "code",
   "execution_count": 4,
   "id": "3485a8d0",
   "metadata": {
    "scrolled": true
   },
   "outputs": [
    {
     "name": "stderr",
     "output_type": "stream",
     "text": [
      "C:\\Users\\LENOVO\\AppData\\Local\\Temp\\ipykernel_10828\\2151825089.py:5: FutureWarning: The frame.append method is deprecated and will be removed from pandas in a future version. Use pandas.concat instead.\n",
      "  df = df.append(df2)\n"
     ]
    },
    {
     "data": {
      "text/html": [
       "<div>\n",
       "<style scoped>\n",
       "    .dataframe tbody tr th:only-of-type {\n",
       "        vertical-align: middle;\n",
       "    }\n",
       "\n",
       "    .dataframe tbody tr th {\n",
       "        vertical-align: top;\n",
       "    }\n",
       "\n",
       "    .dataframe thead th {\n",
       "        text-align: right;\n",
       "    }\n",
       "</style>\n",
       "<table border=\"1\" class=\"dataframe\">\n",
       "  <thead>\n",
       "    <tr style=\"text-align: right;\">\n",
       "      <th></th>\n",
       "      <th>a</th>\n",
       "      <th>b</th>\n",
       "    </tr>\n",
       "  </thead>\n",
       "  <tbody>\n",
       "    <tr>\n",
       "      <th>0</th>\n",
       "      <td>1</td>\n",
       "      <td>2</td>\n",
       "    </tr>\n",
       "    <tr>\n",
       "      <th>1</th>\n",
       "      <td>3</td>\n",
       "      <td>4</td>\n",
       "    </tr>\n",
       "    <tr>\n",
       "      <th>0</th>\n",
       "      <td>5</td>\n",
       "      <td>6</td>\n",
       "    </tr>\n",
       "    <tr>\n",
       "      <th>1</th>\n",
       "      <td>7</td>\n",
       "      <td>8</td>\n",
       "    </tr>\n",
       "  </tbody>\n",
       "</table>\n",
       "</div>"
      ],
      "text/plain": [
       "   a  b\n",
       "0  1  2\n",
       "1  3  4\n",
       "0  5  6\n",
       "1  7  8"
      ]
     },
     "execution_count": 4,
     "metadata": {},
     "output_type": "execute_result"
    }
   ],
   "source": [
    "import pandas as pd\n",
    "\n",
    "df = pd.DataFrame([[1,2], [3,4]], columns=['a','b'])\n",
    "df2 = pd.DataFrame([[5,6], [7,8]], columns=['a','b'])\n",
    "df = df.append(df2)\n",
    "# print(df.values)\n",
    "df.head()"
   ]
  },
  {
   "cell_type": "code",
   "execution_count": 85,
   "id": "3486bd0f",
   "metadata": {
    "scrolled": true
   },
   "outputs": [
    {
     "name": "stdout",
     "output_type": "stream",
     "text": [
      "0   -0.682428\n",
      "1   -0.796458\n",
      "2   -0.548065\n",
      "3    0.005264\n",
      "dtype: float64\n",
      "[RangeIndex(start=0, stop=4, step=1)]\n"
     ]
    }
   ],
   "source": [
    "import pandas as pd\n",
    "import numpy as np\n",
    "\n",
    "s = pd.Series(np.random.randn(4))\n",
    "d = s.axes\n",
    "print(s)\n",
    "print(d)"
   ]
  },
  {
   "cell_type": "code",
   "execution_count": 15,
   "id": "4305cea0",
   "metadata": {},
   "outputs": [
    {
     "name": "stdout",
     "output_type": "stream",
     "text": [
      "       Name  Age  Rating\n",
      "0     Azain   20     3.2\n",
      "1     Wasif   21     2.3\n",
      "2     Aiman   19     3.6\n",
      "3  Tanzeela   10     4.5\n",
      "4   Tahreem   23     2.2\n",
      "5     Imran   30     9.3\n",
      "6   Zeeshan   23     1.4\n",
      "7    Khalid   22     1.6\n",
      "8    Shakir   54     2.1\n",
      "9     Rafay   21     9.9\n"
     ]
    }
   ],
   "source": [
    "import pandas as pd\n",
    "import numpy as np\n",
    "\n",
    "dataset = {'Name' : ['Azain', 'Wasif', 'Aiman', 'Tanzeela', 'Tahreem', 'Imran','Zeeshan', 'Khalid', 'Shakir', 'Rafay'\n",
    "                    ],\n",
    "      'Age' : [\n",
    "          20, 21, 19, 10, 23, 30, 23, 22, 54, 21],\n",
    "      'Rating' : [3.2, 2.3, 3.6, 4.5, 2.2, 9.3, 1.4, 1.6, 2.1, 9.9]} \n",
    "df = pd.DataFrame(dataset)\n",
    "selected_columns = df[['Name', 'Age']]\n",
    "# Print the selected columns without index\n",
    "# print(selected_columns.to_string(index=False))\n",
    "# print(df['Age'].sum()/100*2)\n",
    "# print(df['Age'].cumprod().abs())\n",
    "print(df)\n",
    "# print('\\n')\n",
    "# print(df.dtypes)\n",
    "# print('\\n')\n",
    "# print(df.describe())"
   ]
  },
  {
   "cell_type": "code",
   "execution_count": 20,
   "id": "59736253",
   "metadata": {},
   "outputs": [
    {
     "name": "stdout",
     "output_type": "stream",
     "text": [
      "       Name        Age     Rating String Age\n",
      "count    12  12.000000  12.000000         12\n",
      "unique   12        NaN        NaN         12\n",
      "top     Tom        NaN        NaN         23\n",
      "freq      1        NaN        NaN          1\n",
      "mean    NaN  36.500000   4.208333        NaN\n",
      "std     NaN  17.469454   2.869418        NaN\n",
      "min     NaN  20.000000   1.400000        NaN\n",
      "25%     NaN  22.750000   2.175000        NaN\n",
      "50%     NaN  29.000000   3.400000        NaN\n",
      "75%     NaN  53.250000   4.925000        NaN\n",
      "max     NaN  67.000000   9.900000        NaN\n",
      "\n",
      "\n",
      "       Name String Age\n",
      "count    12         12\n",
      "unique   12         12\n",
      "top     Tom         23\n",
      "freq      1          1\n"
     ]
    }
   ],
   "source": [
    "import pandas as pd\n",
    "import numpy as np\n",
    "\n",
    "d = {'Name' : pd.Series(['Tom', 'Jacker', 'Rickey', 'Alen', 'Vin', 'Arnold', 'Justin', 'Harry', 'Shalby', 'Donald',\n",
    "                        'Chris', 'Travis']),\n",
    "     'Age' : pd.Series([23,21,34,32,54,53,62,26,67,20,24,22]),\n",
    "     'Rating' : pd.Series([3.2, 2.3, 3.6, 4.5, 2.2, 9.3, 1.4, 1.6, 2.1, 9.9, 4.2, 6.2])}\n",
    "df = pd.DataFrame(d)\n",
    "df['String Age'] = df['Age'].astype(str)\n",
    "print(df.describe(include='all'))\n",
    "print('\\n')\n",
    "print(df.describe(include=['object']))"
   ]
  },
  {
   "cell_type": "code",
   "execution_count": 21,
   "id": "39799b78",
   "metadata": {},
   "outputs": [
    {
     "name": "stdout",
     "output_type": "stream",
     "text": [
      "       Col1      Col2      Col3\n",
      "0  1.822311  2.043835  2.375561\n",
      "1  3.168440  1.960741  1.491864\n",
      "2  2.981351  2.411870  1.603576\n",
      "3 -0.600936  2.454651  1.872901\n",
      "4 -0.189680  4.216040  1.703958\n"
     ]
    }
   ],
   "source": [
    "import pandas as pd\n",
    "import numpy as np\n",
    "\n",
    "def adder(ele11, ele2):\n",
    "    return ele11+ele2\n",
    "df = pd.DataFrame(np.random.randn(5,3), columns=['Col1', 'Col2', 'Col3'])\n",
    "df.pipe(adder,2)\n",
    "print(df.pipe(adder,2))"
   ]
  },
  {
   "cell_type": "code",
   "execution_count": 24,
   "id": "2a1ac47c",
   "metadata": {},
   "outputs": [
    {
     "name": "stdout",
     "output_type": "stream",
     "text": [
      "    A   B\n",
      "0  11  14\n",
      "1  12  15\n",
      "2  13  16\n"
     ]
    }
   ],
   "source": [
    "import pandas as pd\n",
    "\n",
    "# Create a DataFrame\n",
    "df = pd.DataFrame({\n",
    "    'A': [1, 2, 3],\n",
    "    'B': [4, 5, 6]\n",
    "})\n",
    "\n",
    "# Define a function to add a constant to each column\n",
    "def add_constant(df, constant):\n",
    "    df = df + constant\n",
    "    return df\n",
    "\n",
    "# Use pipe to apply the function\n",
    "result = (\n",
    "    df.pipe(add_constant, constant=10)\n",
    ")\n",
    "\n",
    "print(result)\n"
   ]
  },
  {
   "cell_type": "code",
   "execution_count": 27,
   "id": "a197d354",
   "metadata": {},
   "outputs": [
    {
     "name": "stdout",
     "output_type": "stream",
     "text": [
      "   col1  col2\n",
      "2     1     2\n",
      "1     1     3\n",
      "3     1     4\n",
      "0     2     1\n"
     ]
    }
   ],
   "source": [
    "import pandas as pd\n",
    "import numpy as np\n",
    "\n",
    "unsorted_df = pd.DataFrame({'col1' : [2,1,1,1], 'col2' : [1,3,2,4]})\n",
    "sorted_df = unsorted_df.sort_values(by=['col1', 'col2'])\n",
    "print(sorted_df)"
   ]
  },
  {
   "cell_type": "code",
   "execution_count": 30,
   "id": "84a8f421",
   "metadata": {},
   "outputs": [
    {
     "name": "stdout",
     "output_type": "stream",
     "text": [
      "Azain Kashif Sami Hamza\n"
     ]
    }
   ],
   "source": [
    "import pandas as pd\n",
    "\n",
    "a = pd.Series(['Azain', 'Kashif', 'Sami', 'Hamza'])\n",
    "print(a.str.cat(sep=' '))"
   ]
  },
  {
   "cell_type": "code",
   "execution_count": 32,
   "id": "b0a1957f",
   "metadata": {},
   "outputs": [
    {
     "name": "stdout",
     "output_type": "stream",
     "text": [
      "0    False\n",
      "1     True\n",
      "2    False\n",
      "3    False\n",
      "dtype: bool\n"
     ]
    }
   ],
   "source": [
    "import pandas as pd\n",
    "\n",
    "a = pd.Series(['Ahmad', 'Rafay,', 'Sufyan', 'Azain'])\n",
    "print(a.str.contains(','))"
   ]
  },
  {
   "cell_type": "code",
   "execution_count": 35,
   "id": "398ebf83",
   "metadata": {},
   "outputs": [
    {
     "name": "stdout",
     "output_type": "stream",
     "text": [
      "0    10\n",
      "Name: Age, dtype: int64\n"
     ]
    }
   ],
   "source": [
    "import pandas as pd\n",
    "\n",
    "a = [{'Name' : 'Azian',\n",
    "      'Age' : 10,\n",
    "      'Education' : 'Matric'}]\n",
    "df = pd.DataFrame(a)\n",
    "print(df.iloc[:, 1])"
   ]
  },
  {
   "cell_type": "code",
   "execution_count": 36,
   "id": "5f90d9c4",
   "metadata": {},
   "outputs": [
    {
     "name": "stdout",
     "output_type": "stream",
     "text": [
      "1    1.000000\n",
      "2    0.500000\n",
      "3    0.333333\n",
      "4    0.250000\n",
      "5   -0.200000\n",
      "dtype: float64\n",
      "          0          1\n",
      "1 -2.258760  -1.280911\n",
      "2  0.139735 -12.215080\n",
      "3  5.309129  -0.307002\n",
      "4 -1.583935  -0.846728\n"
     ]
    }
   ],
   "source": [
    "import pandas as pd\n",
    "import numpy as np\n",
    "\n",
    "s = pd.Series([1,2,3,4,5,4])\n",
    "s = s.pct_change()\n",
    "s = s.dropna()\n",
    "print(s)\n",
    "\n",
    "df = pd.DataFrame(np.random.randn(5,2))\n",
    "df = df.pct_change()\n",
    "df = df.dropna()\n",
    "print(df)"
   ]
  },
  {
   "cell_type": "code",
   "execution_count": 37,
   "id": "add9a9b1",
   "metadata": {},
   "outputs": [
    {
     "name": "stdout",
     "output_type": "stream",
     "text": [
      "Indexing\n",
      "        one       two     three\n",
      "a  0.293783 -0.792393  0.244616\n",
      "c  0.712000 -1.222055  1.847544\n",
      "r -1.930846  1.076931 -0.048683\n",
      "f  0.701643  0.851518 -0.721075\n",
      "h  1.466222 -0.740818 -0.308975\n",
      "Re-Indexing\n",
      "        one       two     three\n",
      "a  0.293783 -0.792393  0.244616\n",
      "b       NaN       NaN       NaN\n",
      "c  0.712000 -1.222055  1.847544\n",
      "d       NaN       NaN       NaN\n",
      "e       NaN       NaN       NaN\n",
      "f  0.701643  0.851518 -0.721075\n",
      "g       NaN       NaN       NaN\n",
      "h  1.466222 -0.740818 -0.308975\n"
     ]
    }
   ],
   "source": [
    "import pandas as pd\n",
    "import numpy as np\n",
    "\n",
    "df = pd.DataFrame(np.random.randn(5,3), index=['a','c','r','f','h'], columns=['one', 'two', 'three'])\n",
    "print('Indexing')\n",
    "print(df)\n",
    "print('Re-Indexing')\n",
    "df = df.reindex(['a', 'b','c','d','e','f','g','h'])\n",
    "print(df)"
   ]
  },
  {
   "cell_type": "code",
   "execution_count": 42,
   "id": "2ebc199f",
   "metadata": {},
   "outputs": [
    {
     "name": "stdout",
     "output_type": "stream",
     "text": [
      "a     True\n",
      "b    False\n",
      "c     True\n",
      "d    False\n",
      "e    False\n",
      "f     True\n",
      "g    False\n",
      "h     True\n",
      "Name: one, dtype: bool\n"
     ]
    }
   ],
   "source": [
    "import pandas as pd\n",
    "import numpy as np\n",
    "\n",
    "df = pd.DataFrame(np.random.randn(5,3), index=['a','c','r','f','h'], columns=['one', 'two', 'three'])\n",
    "df = df.reindex(['a', 'b','c','d','e','f','g','h'])\n",
    "# print(df['one'].isnull())\n",
    "print(df['one'].notnull())"
   ]
  },
  {
   "cell_type": "code",
   "execution_count": 43,
   "id": "82491e9f",
   "metadata": {},
   "outputs": [
    {
     "name": "stdout",
     "output_type": "stream",
     "text": [
      "1.6209689887061458\n"
     ]
    }
   ],
   "source": [
    "import pandas as pd\n",
    "import numpy as np\n",
    "\n",
    "df = pd.DataFrame(np.random.randn(5,3), index=['a','c','r','f','h'], columns=['one', 'two', 'three'])\n",
    "df = df.reindex(['a', 'b','c','d','e','f','g','h'])\n",
    "# print(np.sum(df['one']))\n",
    "print(df['one'].sum())"
   ]
  },
  {
   "cell_type": "code",
   "execution_count": 44,
   "id": "b97e214b",
   "metadata": {},
   "outputs": [
    {
     "name": "stdout",
     "output_type": "stream",
     "text": [
      "a            0.445202\n",
      "b    No Value Requied\n",
      "c           -2.286246\n",
      "d    No Value Requied\n",
      "e    No Value Requied\n",
      "f            -0.78293\n",
      "g    No Value Requied\n",
      "h           -0.830337\n",
      "Name: one, dtype: object\n"
     ]
    }
   ],
   "source": [
    "import pandas as pd\n",
    "import numpy as np\n",
    "\n",
    "df = pd.DataFrame(np.random.randn(5,3), index=['a','c','r','f','h'], columns=['one', 'two', 'three'])\n",
    "df = df.reindex(['a', 'b','c','d','e','f','g','h'])\n",
    "# print(np.sum(df['one']))\n",
    "print(df['one'].fillna('No Value Requied'))"
   ]
  },
  {
   "cell_type": "code",
   "execution_count": 29,
   "id": "169387a4",
   "metadata": {},
   "outputs": [
    {
     "name": "stdout",
     "output_type": "stream",
     "text": [
      "a   -0.628384\n",
      "b         NaN\n",
      "c   -0.836435\n",
      "d         NaN\n",
      "e         NaN\n",
      "f    0.848954\n",
      "g         NaN\n",
      "h    0.759988\n",
      "Name: one, dtype: float64\n",
      "\n",
      "\n",
      "a   -0.628384\n",
      "b   -0.628384\n",
      "c   -0.836435\n",
      "d   -0.836435\n",
      "e   -0.836435\n",
      "f    0.848954\n",
      "g    0.848954\n",
      "h    0.759988\n",
      "Name: one, dtype: float64\n"
     ]
    }
   ],
   "source": [
    "import pandas as pd\n",
    "import numpy as np\n",
    "\n",
    "df = pd.DataFrame(np.random.randn(5,3), index=['a','c','r','f','h'], columns=['one', 'two', 'three'])\n",
    "df = df.reindex(['a', 'b','c','d','e','f','g','h'])\n",
    "# print(np.sum(df['one']))\n",
    "print(df['one'])\n",
    "print('\\n')\n",
    "print(df['one'].fillna(method='pad'))"
   ]
  },
  {
   "cell_type": "code",
   "execution_count": 46,
   "id": "c94b1f1a",
   "metadata": {},
   "outputs": [
    {
     "name": "stdout",
     "output_type": "stream",
     "text": [
      "a   -0.831509\n",
      "b   -1.229521\n",
      "c   -1.229521\n",
      "d   -0.052803\n",
      "e   -0.052803\n",
      "f   -0.052803\n",
      "g   -0.236833\n",
      "h   -0.236833\n",
      "Name: one, dtype: float64\n"
     ]
    }
   ],
   "source": [
    "import pandas as pd\n",
    "import numpy as np\n",
    "\n",
    "df = pd.DataFrame(np.random.randn(5,3), index=['a','c','r','f','h'], columns=['one', 'two', 'three'])\n",
    "df = df.reindex(['a', 'b','c','d','e','f','g','h'])\n",
    "# print(np.sum(df['one']))\n",
    "# print(df.dropna())\n",
    "# print('\\n')\n",
    "print(df['one'].fillna(method='backfill'))"
   ]
  },
  {
   "cell_type": "code",
   "execution_count": 58,
   "id": "f76494c2",
   "metadata": {},
   "outputs": [
    {
     "name": "stdout",
     "output_type": "stream",
     "text": [
      "      Team  Rank  Year  Points\n",
      "0   Riders     1  2014     876\n",
      "1   Riders     2  2015     789\n",
      "2   Devils     2  2014     863\n",
      "3   Devils     3  2015     673\n",
      "4    Kings     3  2014     741\n",
      "5    kings     4  2015     812\n",
      "6    Kings     1  2016     756\n",
      "7    Kings     1  2017     788\n",
      "8   Riders     2  2016     694\n",
      "9   Royals     4  2014     701\n",
      "10  Royals     1  2015     804\n",
      "11  Riders     2  2017     690\n",
      "\n",
      "\n"
     ]
    }
   ],
   "source": [
    "import pandas as pd\n",
    "import numpy as np\n",
    "\n",
    "ipl_data = {'Team' : ['Riders', 'Riders', 'Devils', 'Devils', 'Kings', 'kings', 'Kings', 'Kings',\n",
    "                  'Riders', 'Royals', 'Royals', 'Riders'],\n",
    "       'Rank' : [1, 2, 2, 3, 3, 4, 1, 1, 2, 4, 1, 2],\n",
    "       'Year' : [2014, 2015, 2014, 2015, 2014, 2015, 2016, 2017, 2016, 2014, 2015, 2017],\n",
    "       'Points' : [876, 789, 863, 673, 741, 812, 756, 788, 694, 701, 804, 690]}\n",
    "df = pd.DataFrame(ipl_data)\n",
    "print(df)\n",
    "print('\\n')\n",
    "# print(df.groupby('Team').groups)\n",
    "# print(df.groupby(['Team', 'Year']).groups)\n",
    "# grouped = df.groupby('Team')\n",
    "# print(grouped['Points'].agg([np.sum, np.mean, np.std]))\n",
    "# for name,group in grouped:\n",
    "#     print(name)\n",
    "#     print(group)\n",
    "# print(grouped.get_group(2015))"
   ]
  },
  {
   "cell_type": "code",
   "execution_count": 59,
   "id": "3a66dc42",
   "metadata": {},
   "outputs": [
    {
     "name": "stdout",
     "output_type": "stream",
     "text": [
      "         Rank       Year     Points\n",
      "0  -15.000000 -11.618950  12.843272\n",
      "1    5.000000  -3.872983   3.020286\n",
      "2   -7.071068  -7.071068   7.071068\n",
      "3    7.071068   7.071068  -7.071068\n",
      "4   11.547005 -10.910895  -8.608621\n",
      "5         NaN        NaN        NaN\n",
      "6   -5.773503   2.182179  -2.360428\n",
      "7   -5.773503   8.728716  10.969049\n",
      "8    5.000000   3.872983  -7.705963\n",
      "9    7.071068  -7.071068  -7.071068\n",
      "10  -7.071068   7.071068   7.071068\n",
      "11   5.000000  11.618950  -8.157595\n"
     ]
    }
   ],
   "source": [
    "import pandas as pd\n",
    "import numpy as np\n",
    "\n",
    "ipl_data = {'Team' : ['Riders', 'Riders', 'Devils', 'Devils', 'Kings', 'kings', 'Kings', 'Kings',\n",
    "                  'Riders', 'Royals', 'Royals', 'Riders'],\n",
    "       'Rank' : [1, 2, 2, 3, 3, 4, 1, 1, 2, 4, 1, 2],\n",
    "       'Year' : [2014, 2015, 2014, 2015, 2014, 2015, 2016, 2017, 2016, 2014, 2015, 2017],\n",
    "       'Points' : [876, 789, 863, 673, 741, 812, 756, 788, 694, 701, 804, 690]}\n",
    "df = pd.DataFrame(ipl_data)\n",
    "grouped = df.groupby('Team')\n",
    "score = lambda x : (x - x.mean()) / x.std()*10\n",
    "print(grouped.transform(score))"
   ]
  },
  {
   "cell_type": "code",
   "execution_count": 69,
   "id": "9f834b5a",
   "metadata": {},
   "outputs": [
    {
     "name": "stdout",
     "output_type": "stream",
     "text": [
      "      Team  Rank  Year  Points\n",
      "0   Riders     1  2014     876\n",
      "1   Riders     2  2015     789\n",
      "4    Kings     3  2014     741\n",
      "6    Kings     1  2016     756\n",
      "7    Kings     1  2017     788\n",
      "8   Riders     2  2016     694\n",
      "11  Riders     2  2017     690\n"
     ]
    }
   ],
   "source": [
    "import pandas as pd\n",
    "import numpy as np\n",
    "\n",
    "ipl_data = {'Team' : ['Riders', 'Riders', 'Devils', 'Devils', 'Kings', 'kings', 'Kings', 'Kings',\n",
    "                  'Riders', 'Royals', 'Royals', 'Riders'],\n",
    "       'Rank' : [1, 2, 2, 3, 3, 4, 1, 1, 2, 4, 1, 2],\n",
    "       'Year' : [2014, 2015, 2014, 2015, 2014, 2015, 2016, 2017, 2016, 2014, 2015, 2017],\n",
    "       'Points' : [876, 789, 863, 673, 741, 812, 756, 788, 694, 701, 804, 690]}\n",
    "df = pd.DataFrame(ipl_data)\n",
    "# print(df)\n",
    "# print('\\n')\n",
    "df = df.groupby('Team').filter(lambda x : len(x) >= 3)\n",
    "previous_team = ''\n",
    "for i in df:\n",
    "    if(previous_team != i['Team'])\n",
    "        previous_team = i['Team']\n",
    "        i['Rank'] = sum(i['Rank'])\n",
    "print(df)"
   ]
  },
  {
   "cell_type": "code",
   "execution_count": null,
   "id": "273bbde0",
   "metadata": {},
   "outputs": [],
   "source": [
    "import pandas as pd\n",
    "import numpy as np\n",
    "\n",
    "left = pd.DataFrame({\n",
    "        'id' : [1,2,3,4,5],\n",
    "        'Name' : ['Alex', 'Amy', 'Allen', 'Alice', 'Ayoung'],\n",
    "        'subject_id' : ['sub1', 'sub2', 'sub4', 'sub6', 'sub5']\n",
    "});\n",
    "\n",
    "right = pd.DataFrame({\n",
    "        'id' : [1,2,3,4,5],\n",
    "        'Name' : ['Billy', 'Brian', 'Bran', 'Bryce', 'Betty'],\n",
    "        'subject_id' : ['sub2', 'sub4', 'sub3', 'sub6', 'sub5']\n",
    "});\n",
    "\n",
    "# print(pd.merge(left,right,on='id', sort=True))\n",
    "print(pd.merge(left,right,on='id'))"
   ]
  },
  {
   "cell_type": "code",
   "execution_count": null,
   "id": "2975146b",
   "metadata": {},
   "outputs": [],
   "source": [
    "import pandas as pd\n",
    "import numpy as np\n",
    "\n",
    "left = pd.DataFrame({\n",
    "        'id' : [1,2,3,4,5],\n",
    "        'Name' : ['Alex', 'Amy', 'Allen', 'Alice', 'Ayoung'],\n",
    "        'subject_id' : ['sub1', 'sub2', 'sub4', 'sub6', 'sub5']\n",
    "});\n",
    "\n",
    "right = pd.DataFrame({\n",
    "        'id' : [1,2,3,4,5],\n",
    "        'Name' : ['Billy', 'Brian', 'Bran', 'Bryce', 'Betty'],\n",
    "        'subject_id' : ['sub2', 'sub4', 'sub3', 'sub6', 'sub5']\n",
    "});\n",
    "print(pd.merge(left, right, on='subject_id', how='inner'))"
   ]
  },
  {
   "cell_type": "code",
   "execution_count": null,
   "id": "6ffde9f6",
   "metadata": {},
   "outputs": [],
   "source": [
    "import pandas as pd\n",
    "\n",
    "s = pd.Series(pd.date_range('2012-1-1', periods=3, freq='D'))\n",
    "td = pd.Series([pd.Timedelta(days=i,) for i in range(3)])\n",
    "df = pd.DataFrame(dict(A=s, B=td))\n",
    "print(df)"
   ]
  },
  {
   "cell_type": "code",
   "execution_count": null,
   "id": "29d40c41",
   "metadata": {},
   "outputs": [],
   "source": [
    "import pandas as pd\n",
    "\n",
    "s = pd.Series(pd.date_range('2012-1-1', periods=3, freq='D'))\n",
    "td = pd.Series([pd.Timedelta(days=i,) for i in range(3)])\n",
    "df = pd.DataFrame(dict(A=s, B=td))\n",
    "df['C'] = df['A']+df['B']\n",
    "df['D'] = df['C']+df['B']\n",
    "print(df)"
   ]
  },
  {
   "cell_type": "code",
   "execution_count": null,
   "id": "98a285a2",
   "metadata": {},
   "outputs": [],
   "source": [
    "import pandas as pd\n",
    "import numpy as np\n",
    "\n",
    "df = pd.DataFrame(np.random.rand(10,4), index=pd.date_range(1/1/2020, periods=10), columns=list('ABCD'))\n",
    "df.plot()"
   ]
  },
  {
   "cell_type": "code",
   "execution_count": null,
   "id": "553ab366",
   "metadata": {},
   "outputs": [],
   "source": [
    "import pandas as pd\n",
    "import numpy as np\n",
    "\n",
    "df = pd.DataFrame(np.random.rand(10,4), columns=('a', 'b', 'c', 'd'))\n",
    "df.plot.bar()"
   ]
  },
  {
   "cell_type": "code",
   "execution_count": null,
   "id": "9e400a47",
   "metadata": {},
   "outputs": [],
   "source": [
    "import pandas as pd\n",
    "import numpy as np\n",
    "\n",
    "df = pd.DataFrame(np.random.rand(10,4), columns=('a', 'b', 'c', 'd'))\n",
    "df.plot.bar(stacked=True)"
   ]
  },
  {
   "cell_type": "code",
   "execution_count": null,
   "id": "65304cce",
   "metadata": {},
   "outputs": [],
   "source": [
    "import pandas as pd\n",
    "import numpy as np\n",
    "\n",
    "df = pd.DataFrame(np.random.rand(10,4), columns=('a', 'b', 'c', 'd'))\n",
    "df.plot.barh(stacked=True)"
   ]
  },
  {
   "cell_type": "code",
   "execution_count": null,
   "id": "56736eb0",
   "metadata": {},
   "outputs": [],
   "source": [
    "import pandas as pd\n",
    "import numpy as np\n",
    "\n",
    "df = pd.DataFrame({'a' : np.random.randn(1000)+1, \n",
    "                   'b' : np.random.randn(1000),\n",
    "                   'c' : np.random.randn(1000) - 1},columns=['a','b','c'])\n",
    "df.plot.hist(bins=20)"
   ]
  },
  {
   "cell_type": "code",
   "execution_count": null,
   "id": "285bba27",
   "metadata": {},
   "outputs": [],
   "source": [
    "import pandas as pd\n",
    "import numpy as np\n",
    "\n",
    "df = pd.DataFrame({'a' : np.random.randn(1000)+1, \n",
    "                   'b' : np.random.randn(1000),\n",
    "                   'c' : np.random.randn(1000) - 1,\n",
    "                   'd' : np.random.randn(1000) * 3},columns=['a','b','c','d'])\n",
    "df.hist(bins=20)"
   ]
  },
  {
   "cell_type": "code",
   "execution_count": null,
   "id": "e221892b",
   "metadata": {},
   "outputs": [],
   "source": [
    "import pandas as pd\n",
    "import numpy as np\n",
    "\n",
    "df = pd.DataFrame(np.random.rand(10,4), columns=('a', 'b', 'c', 'd'))\n",
    "df.plot.area()"
   ]
  },
  {
   "cell_type": "code",
   "execution_count": null,
   "id": "fe8e0a2f",
   "metadata": {},
   "outputs": [],
   "source": [
    "import pandas as pd\n",
    "import numpy as np\n",
    "\n",
    "df = pd.DataFrame(np.random.rand(10,4), columns=('a', 'b', 'c', 'd'))\n",
    "df.plot.scatter(x='a', y='b')"
   ]
  },
  {
   "cell_type": "code",
   "execution_count": null,
   "id": "b5f77903",
   "metadata": {},
   "outputs": [],
   "source": [
    "import pandas as pd\n",
    "import numpy as np\n",
    "\n",
    "df = pd.DataFrame(np.random.rand(4), index=('a', 'b', 'c', 'd'))\n",
    "columns=['x']\n",
    "df.plot.pie(subplots=True)"
   ]
  },
  {
   "cell_type": "code",
   "execution_count": 11,
   "id": "039ff220",
   "metadata": {},
   "outputs": [
    {
     "data": {
      "text/html": [
       "<div>\n",
       "<style scoped>\n",
       "    .dataframe tbody tr th:only-of-type {\n",
       "        vertical-align: middle;\n",
       "    }\n",
       "\n",
       "    .dataframe tbody tr th {\n",
       "        vertical-align: top;\n",
       "    }\n",
       "\n",
       "    .dataframe thead th {\n",
       "        text-align: right;\n",
       "    }\n",
       "</style>\n",
       "<table border=\"1\" class=\"dataframe\">\n",
       "  <thead>\n",
       "    <tr style=\"text-align: right;\">\n",
       "      <th></th>\n",
       "      <th>total bill</th>\n",
       "      <th>tip</th>\n",
       "      <th>sex</th>\n",
       "      <th>smoker</th>\n",
       "      <th>day</th>\n",
       "      <th>time</th>\n",
       "      <th>size</th>\n",
       "    </tr>\n",
       "  </thead>\n",
       "  <tbody>\n",
       "    <tr>\n",
       "      <th>0</th>\n",
       "      <td>16.99</td>\n",
       "      <td>1.01</td>\n",
       "      <td>Female</td>\n",
       "      <td>No</td>\n",
       "      <td>Sun</td>\n",
       "      <td>Dinner</td>\n",
       "      <td>2</td>\n",
       "    </tr>\n",
       "    <tr>\n",
       "      <th>1</th>\n",
       "      <td>10.34</td>\n",
       "      <td>1.66</td>\n",
       "      <td>Male</td>\n",
       "      <td>No</td>\n",
       "      <td>Sun</td>\n",
       "      <td>Breakfast</td>\n",
       "      <td>3</td>\n",
       "    </tr>\n",
       "    <tr>\n",
       "      <th>2</th>\n",
       "      <td>21.01</td>\n",
       "      <td>3.50</td>\n",
       "      <td>Male</td>\n",
       "      <td>No</td>\n",
       "      <td>Sun</td>\n",
       "      <td>Lunch</td>\n",
       "      <td>3</td>\n",
       "    </tr>\n",
       "    <tr>\n",
       "      <th>3</th>\n",
       "      <td>23.66</td>\n",
       "      <td>3.31</td>\n",
       "      <td>Male</td>\n",
       "      <td>No</td>\n",
       "      <td>Sun</td>\n",
       "      <td>Dinner</td>\n",
       "      <td>2</td>\n",
       "    </tr>\n",
       "    <tr>\n",
       "      <th>4</th>\n",
       "      <td>23.59</td>\n",
       "      <td>3.61</td>\n",
       "      <td>Female</td>\n",
       "      <td>No</td>\n",
       "      <td>Sun</td>\n",
       "      <td>Dinner</td>\n",
       "      <td>4</td>\n",
       "    </tr>\n",
       "    <tr>\n",
       "      <th>5</th>\n",
       "      <td>94.36</td>\n",
       "      <td>3.61</td>\n",
       "      <td>Female</td>\n",
       "      <td>No</td>\n",
       "      <td>Mon</td>\n",
       "      <td>Breakfast</td>\n",
       "      <td>4</td>\n",
       "    </tr>\n",
       "    <tr>\n",
       "      <th>6</th>\n",
       "      <td>377.44</td>\n",
       "      <td>3.61</td>\n",
       "      <td>Female</td>\n",
       "      <td>No</td>\n",
       "      <td>Tue</td>\n",
       "      <td>Breakfast</td>\n",
       "      <td>6</td>\n",
       "    </tr>\n",
       "    <tr>\n",
       "      <th>7</th>\n",
       "      <td>2264.64</td>\n",
       "      <td>3.61</td>\n",
       "      <td>Female</td>\n",
       "      <td>Yes</td>\n",
       "      <td>Wed</td>\n",
       "      <td>Breakfast</td>\n",
       "      <td>4</td>\n",
       "    </tr>\n",
       "    <tr>\n",
       "      <th>8</th>\n",
       "      <td>9058.56</td>\n",
       "      <td>3.61</td>\n",
       "      <td>Female</td>\n",
       "      <td>Yes</td>\n",
       "      <td>Thu</td>\n",
       "      <td>Breakfast</td>\n",
       "      <td>2</td>\n",
       "    </tr>\n",
       "    <tr>\n",
       "      <th>9</th>\n",
       "      <td>18117.12</td>\n",
       "      <td>3.61</td>\n",
       "      <td>Female</td>\n",
       "      <td>Yes</td>\n",
       "      <td>Fri</td>\n",
       "      <td>Dinner</td>\n",
       "      <td>1</td>\n",
       "    </tr>\n",
       "    <tr>\n",
       "      <th>10</th>\n",
       "      <td>18117.12</td>\n",
       "      <td>3.61</td>\n",
       "      <td>Female</td>\n",
       "      <td>Yes</td>\n",
       "      <td>Sat</td>\n",
       "      <td>Dinner</td>\n",
       "      <td>5</td>\n",
       "    </tr>\n",
       "    <tr>\n",
       "      <th>11</th>\n",
       "      <td>90585.60</td>\n",
       "      <td>3.61</td>\n",
       "      <td>Female</td>\n",
       "      <td>Yes</td>\n",
       "      <td>Sun</td>\n",
       "      <td>Lunch</td>\n",
       "      <td>6</td>\n",
       "    </tr>\n",
       "    <tr>\n",
       "      <th>12</th>\n",
       "      <td>543513.60</td>\n",
       "      <td>3.61</td>\n",
       "      <td>Female</td>\n",
       "      <td>Yes</td>\n",
       "      <td>Mon</td>\n",
       "      <td>Lunch</td>\n",
       "      <td>4</td>\n",
       "    </tr>\n",
       "    <tr>\n",
       "      <th>13</th>\n",
       "      <td>2174054.40</td>\n",
       "      <td>3.61</td>\n",
       "      <td>Female</td>\n",
       "      <td>Yes</td>\n",
       "      <td>Tue</td>\n",
       "      <td>Dinner</td>\n",
       "      <td>4</td>\n",
       "    </tr>\n",
       "    <tr>\n",
       "      <th>14</th>\n",
       "      <td>8696217.60</td>\n",
       "      <td>3.61</td>\n",
       "      <td>NaN</td>\n",
       "      <td>NaN</td>\n",
       "      <td>Wed</td>\n",
       "      <td>NaN</td>\n",
       "      <td>4</td>\n",
       "    </tr>\n",
       "    <tr>\n",
       "      <th>15</th>\n",
       "      <td>34784870.40</td>\n",
       "      <td>3.61</td>\n",
       "      <td>NaN</td>\n",
       "      <td>NaN</td>\n",
       "      <td>Thu</td>\n",
       "      <td>NaN</td>\n",
       "      <td>2</td>\n",
       "    </tr>\n",
       "    <tr>\n",
       "      <th>16</th>\n",
       "      <td>69569740.80</td>\n",
       "      <td>3.61</td>\n",
       "      <td>NaN</td>\n",
       "      <td>NaN</td>\n",
       "      <td>Fri</td>\n",
       "      <td>NaN</td>\n",
       "      <td>7</td>\n",
       "    </tr>\n",
       "  </tbody>\n",
       "</table>\n",
       "</div>"
      ],
      "text/plain": [
       "     total bill   tip     sex smoker  day       time  size\n",
       "0         16.99  1.01  Female     No  Sun     Dinner     2\n",
       "1         10.34  1.66    Male     No  Sun  Breakfast     3\n",
       "2         21.01  3.50    Male     No  Sun      Lunch     3\n",
       "3         23.66  3.31    Male     No  Sun     Dinner     2\n",
       "4         23.59  3.61  Female     No  Sun     Dinner     4\n",
       "5         94.36  3.61  Female     No  Mon  Breakfast     4\n",
       "6        377.44  3.61  Female     No  Tue  Breakfast     6\n",
       "7       2264.64  3.61  Female    Yes  Wed  Breakfast     4\n",
       "8       9058.56  3.61  Female    Yes  Thu  Breakfast     2\n",
       "9      18117.12  3.61  Female    Yes  Fri     Dinner     1\n",
       "10     18117.12  3.61  Female    Yes  Sat     Dinner     5\n",
       "11     90585.60  3.61  Female    Yes  Sun      Lunch     6\n",
       "12    543513.60  3.61  Female    Yes  Mon      Lunch     4\n",
       "13   2174054.40  3.61  Female    Yes  Tue     Dinner     4\n",
       "14   8696217.60  3.61     NaN    NaN  Wed        NaN     4\n",
       "15  34784870.40  3.61     NaN    NaN  Thu        NaN     2\n",
       "16  69569740.80  3.61     NaN    NaN  Fri        NaN     7"
      ]
     },
     "execution_count": 11,
     "metadata": {},
     "output_type": "execute_result"
    }
   ],
   "source": [
    "import os\n",
    "import pandas as pd\n",
    "# os.getcwd()\n",
    "tips = pd.read_csv(\"Book2.csv\")\n",
    "# print(tips[['total bill', 'tip', 'smoker', 'time']].head(2)) # set limit\n",
    "# print(tips[tips['sex'] == 'Male'].head()) # where condition\n",
    "# print(tips.groupby('time').size()) # group by\n",
    "# tips[tips['sex'] == 'Female'].head(14)\n",
    "# tips = tips[['total bill','tip','sex','smoker','day', 'time', 'size']].fillna(0)\n",
    "# tips.dropna(inplace=True)\n",
    "# print(tips.columns)\n",
    "tips.head(20)\n",
    "# print(tips)"
   ]
  },
  {
   "cell_type": "code",
   "execution_count": 2,
   "id": "3d9c484d",
   "metadata": {},
   "outputs": [
    {
     "data": {
      "image/png": "[encoded data removed]",
      "text/plain": [
       "<Figure size 640x480 with 1 Axes>"
      ]
     },
     "metadata": {},
     "output_type": "display_data"
    }
   ],
   "source": [
    "from matplotlib import pyplot as plt\n",
    "import numpy as np\n",
    "import math\n",
    "\n",
    "x = np.arange(0, math.pi*2, 0.05)\n",
    "y = np.sin(x)\n",
    "plt.plot(x,y)\n",
    "plt.xlabel(\"angle\")\n",
    "plt.ylabel(\"sine\")\n",
    "plt.title('sine wave')\n",
    "plt.show()"
   ]
  },
  {
   "cell_type": "code",
   "execution_count": 4,
   "id": "b6c1821c",
   "metadata": {},
   "outputs": [
    {
     "name": "stderr",
     "output_type": "stream",
     "text": [
      "No artists with labels found to put in legend.  Note that artists whose label start with an underscore are ignored when legend() is called with no argument.\n"
     ]
    },
    {
     "ename": "TypeError",
     "evalue": "__init__() got an unexpected keyword argument 'label'",
     "output_type": "error",
     "traceback": [
      "\u001b[1;31m---------------------------------------------------------------------------\u001b[0m",
      "\u001b[1;31mTypeError\u001b[0m                                 Traceback (most recent call last)",
      "\u001b[1;32m~\\AppData\\Local\\Temp\\ipykernel_5128\\2887073553.py\u001b[0m in \u001b[0;36m<module>\u001b[1;34m\u001b[0m\n\u001b[0;32m      8\u001b[0m \u001b[0mli\u001b[0m \u001b[1;33m=\u001b[0m \u001b[0max\u001b[0m\u001b[1;33m.\u001b[0m\u001b[0mplot\u001b[0m\u001b[1;33m(\u001b[0m\u001b[0mx1\u001b[0m\u001b[1;33m,\u001b[0m\u001b[0my\u001b[0m\u001b[1;33m,\u001b[0m\u001b[1;34m'ys-'\u001b[0m\u001b[1;33m)\u001b[0m\u001b[1;33m\u001b[0m\u001b[1;33m\u001b[0m\u001b[0m\n\u001b[0;32m      9\u001b[0m \u001b[0ml2\u001b[0m \u001b[1;33m=\u001b[0m \u001b[0max\u001b[0m\u001b[1;33m.\u001b[0m\u001b[0mplot\u001b[0m\u001b[1;33m(\u001b[0m\u001b[0mx2\u001b[0m\u001b[1;33m,\u001b[0m\u001b[0my\u001b[0m\u001b[1;33m,\u001b[0m\u001b[1;34m'go--'\u001b[0m\u001b[1;33m)\u001b[0m\u001b[1;33m\u001b[0m\u001b[1;33m\u001b[0m\u001b[0m\n\u001b[1;32m---> 10\u001b[1;33m \u001b[0max\u001b[0m\u001b[1;33m.\u001b[0m\u001b[0mlegend\u001b[0m\u001b[1;33m(\u001b[0m\u001b[0mlabel\u001b[0m\u001b[1;33m=\u001b[0m\u001b[1;33m(\u001b[0m\u001b[1;34m'tv'\u001b[0m\u001b[1;33m,\u001b[0m \u001b[1;34m'Smartphone'\u001b[0m\u001b[1;33m)\u001b[0m\u001b[1;33m,\u001b[0m \u001b[0mloc\u001b[0m\u001b[1;33m=\u001b[0m\u001b[1;34m'lower right'\u001b[0m\u001b[1;33m)\u001b[0m\u001b[1;33m\u001b[0m\u001b[1;33m\u001b[0m\u001b[0m\n\u001b[0m\u001b[0;32m     11\u001b[0m \u001b[0max\u001b[0m\u001b[1;33m.\u001b[0m\u001b[0mset_title\u001b[0m\u001b[1;33m(\u001b[0m\u001b[1;34m\"Advertisment effect on sales\"\u001b[0m\u001b[1;33m)\u001b[0m\u001b[1;33m\u001b[0m\u001b[1;33m\u001b[0m\u001b[0m\n\u001b[0;32m     12\u001b[0m \u001b[0max\u001b[0m\u001b[1;33m.\u001b[0m\u001b[0mset_xlabel\u001b[0m\u001b[1;33m(\u001b[0m\u001b[1;34m'medium'\u001b[0m\u001b[1;33m)\u001b[0m\u001b[1;33m\u001b[0m\u001b[1;33m\u001b[0m\u001b[0m\n",
      "\u001b[1;32mE:\\ProgramData\\Anaconda3\\lib\\site-packages\\matplotlib\\axes\\_axes.py\u001b[0m in \u001b[0;36mlegend\u001b[1;34m(self, *args, **kwargs)\u001b[0m\n\u001b[0;32m    303\u001b[0m         \u001b[1;32mif\u001b[0m \u001b[0mlen\u001b[0m\u001b[1;33m(\u001b[0m\u001b[0mextra_args\u001b[0m\u001b[1;33m)\u001b[0m\u001b[1;33m:\u001b[0m\u001b[1;33m\u001b[0m\u001b[1;33m\u001b[0m\u001b[0m\n\u001b[0;32m    304\u001b[0m             \u001b[1;32mraise\u001b[0m \u001b[0mTypeError\u001b[0m\u001b[1;33m(\u001b[0m\u001b[1;34m'legend only accepts two non-keyword arguments'\u001b[0m\u001b[1;33m)\u001b[0m\u001b[1;33m\u001b[0m\u001b[1;33m\u001b[0m\u001b[0m\n\u001b[1;32m--> 305\u001b[1;33m         \u001b[0mself\u001b[0m\u001b[1;33m.\u001b[0m\u001b[0mlegend_\u001b[0m \u001b[1;33m=\u001b[0m \u001b[0mmlegend\u001b[0m\u001b[1;33m.\u001b[0m\u001b[0mLegend\u001b[0m\u001b[1;33m(\u001b[0m\u001b[0mself\u001b[0m\u001b[1;33m,\u001b[0m \u001b[0mhandles\u001b[0m\u001b[1;33m,\u001b[0m \u001b[0mlabels\u001b[0m\u001b[1;33m,\u001b[0m \u001b[1;33m**\u001b[0m\u001b[0mkwargs\u001b[0m\u001b[1;33m)\u001b[0m\u001b[1;33m\u001b[0m\u001b[1;33m\u001b[0m\u001b[0m\n\u001b[0m\u001b[0;32m    306\u001b[0m         \u001b[0mself\u001b[0m\u001b[1;33m.\u001b[0m\u001b[0mlegend_\u001b[0m\u001b[1;33m.\u001b[0m\u001b[0m_remove_method\u001b[0m \u001b[1;33m=\u001b[0m \u001b[0mself\u001b[0m\u001b[1;33m.\u001b[0m\u001b[0m_remove_legend\u001b[0m\u001b[1;33m\u001b[0m\u001b[1;33m\u001b[0m\u001b[0m\n\u001b[0;32m    307\u001b[0m         \u001b[1;32mreturn\u001b[0m \u001b[0mself\u001b[0m\u001b[1;33m.\u001b[0m\u001b[0mlegend_\u001b[0m\u001b[1;33m\u001b[0m\u001b[1;33m\u001b[0m\u001b[0m\n",
      "\u001b[1;31mTypeError\u001b[0m: __init__() got an unexpected keyword argument 'label'"
     ]
    },
    {
     "data": {
      "image/png": "[encoded data removed]",
      "text/plain": [
       "<Figure size 640x480 with 1 Axes>"
      ]
     },
     "metadata": {},
     "output_type": "display_data"
    }
   ],
   "source": [
    "import matplotlib.pyplot as plt\n",
    "\n",
    "y = [1,4,9,16,26,36,49,64]\n",
    "x1 = [1,16,30,42,55,68,77,88]\n",
    "x2 = [1,6,12,18,28,40,52,65]\n",
    "fig = plt.figure()\n",
    "ax = fig.add_axes([0,0,1,1])\n",
    "li = ax.plot(x1,y,'ys-')\n",
    "l2 = ax.plot(x2,y,'go--')\n",
    "ax.legend(label=('tv', 'Smartphone'), loc='lower right')\n",
    "ax.set_title(\"Advertisment effect on sales\")\n",
    "ax.set_xlabel('medium')\n",
    "ax.set_ylabel('sales')\n",
    "plt.show()"
   ]
  },
  {
   "cell_type": "code",
   "execution_count": 77,
   "id": "7035d64e",
   "metadata": {},
   "outputs": [
    {
     "data": {
      "text/plain": [
       "<seaborn.axisgrid.FacetGrid at 0x23e6ef83eb0>"
      ]
     },
     "execution_count": 77,
     "metadata": {},
     "output_type": "execute_result"
    },
    {
     "data": {
      "image/png": "[encoded data removed]",
      "text/plain": [
       "<Figure size 1073.22x500 with 2 Axes>"
      ]
     },
     "metadata": {},
     "output_type": "display_data"
    }
   ],
   "source": [
    "import seaborn as sns\n",
    "import matplotlib.pyplot as plt\n",
    "\n",
    "# Load Seaborn's built-in 'tips' dataset as an example\n",
    "df = sns.load_dataset(\"tips\")\n",
    "\n",
    "# Set the Seaborn style\n",
    "sns.set_style()\n",
    "\n",
    "# Create a relational plot\n",
    "sns.relplot(x=\"total_bill\", y=\"tip\", col=\"time\", hue=\"smoker\", style=\"smoker\", size=\"size\", data=df)\n",
    "\n"
   ]
  },
  {
   "cell_type": "code",
   "execution_count": 90,
   "id": "9f49f18b",
   "metadata": {},
   "outputs": [
    {
     "data": {
      "text/plain": [
       "<seaborn.axisgrid.FacetGrid at 0x23e731ac3a0>"
      ]
     },
     "execution_count": 90,
     "metadata": {},
     "output_type": "execute_result"
    },
    {
     "data": {
      "image/png": "[encoded data removed]",
      "text/plain": [
       "<Figure size 1073.22x500 with 2 Axes>"
      ]
     },
     "metadata": {},
     "output_type": "display_data"
    },
    {
     "data": {
      "image/png": "[encoded data removed]",
      "text/plain": [
       "<Figure size 500x500 with 1 Axes>"
      ]
     },
     "metadata": {},
     "output_type": "display_data"
    }
   ],
   "source": [
    "import seaborn as sns\n",
    "import matplotlib.pyplot as plt\n",
    "\n",
    "# Load Seaborn's built-in 'tips' dataset as an example\n",
    "df = sns.load_dataset(\"tips\")\n",
    "\n",
    "# Set the Seaborn style\n",
    "sns.set_style()\n",
    "\n",
    "# Create a relational plot\n",
    "sns.relplot(x=\"total_bill\", y=\"tip\", col=\"time\", hue=\"smoker\", style=\"smoker\", size=\"size\", data=df)\n",
    "sns.lmplot(x=\"total_bill\", y=\"tip\", data=df)"
   ]
  },
  {
   "cell_type": "code",
   "execution_count": 2,
   "id": "85dd5698",
   "metadata": {},
   "outputs": [
    {
     "ename": "FileNotFoundError",
     "evalue": "[Errno 2] No such file or directory: '/kaggle/input/smoking-dataset-from-uk/smoking.csv'",
     "output_type": "error",
     "traceback": [
      "\u001b[1;31m---------------------------------------------------------------------------\u001b[0m",
      "\u001b[1;31mFileNotFoundError\u001b[0m                         Traceback (most recent call last)",
      "\u001b[1;32m~\\AppData\\Local\\Temp\\ipykernel_7224\\3855715117.py\u001b[0m in \u001b[0;36m<module>\u001b[1;34m\u001b[0m\n\u001b[0;32m      4\u001b[0m \u001b[1;33m\u001b[0m\u001b[0m\n\u001b[0;32m      5\u001b[0m \u001b[1;33m\u001b[0m\u001b[0m\n\u001b[1;32m----> 6\u001b[1;33m \u001b[0mdata\u001b[0m \u001b[1;33m=\u001b[0m \u001b[0mpd\u001b[0m\u001b[1;33m.\u001b[0m\u001b[0mread_csv\u001b[0m\u001b[1;33m(\u001b[0m\u001b[1;34m'/kaggle/input/smoking-dataset-from-uk/smoking.csv'\u001b[0m\u001b[1;33m)\u001b[0m\u001b[1;33m\u001b[0m\u001b[1;33m\u001b[0m\u001b[0m\n\u001b[0m\u001b[0;32m      7\u001b[0m df = pd.DataFrame(data, columns=['gender', 'age', 'marital_status',\n\u001b[0;32m      8\u001b[0m        \u001b[1;34m'highest_qualification'\u001b[0m\u001b[1;33m,\u001b[0m \u001b[1;34m'nationality'\u001b[0m\u001b[1;33m,\u001b[0m \u001b[1;34m'ethnicity'\u001b[0m\u001b[1;33m,\u001b[0m \u001b[1;34m'gross_income'\u001b[0m\u001b[1;33m,\u001b[0m\u001b[1;33m\u001b[0m\u001b[1;33m\u001b[0m\u001b[0m\n",
      "\u001b[1;32mE:\\ProgramData\\Anaconda3\\lib\\site-packages\\pandas\\util\\_decorators.py\u001b[0m in \u001b[0;36mwrapper\u001b[1;34m(*args, **kwargs)\u001b[0m\n\u001b[0;32m    309\u001b[0m                     \u001b[0mstacklevel\u001b[0m\u001b[1;33m=\u001b[0m\u001b[0mstacklevel\u001b[0m\u001b[1;33m,\u001b[0m\u001b[1;33m\u001b[0m\u001b[1;33m\u001b[0m\u001b[0m\n\u001b[0;32m    310\u001b[0m                 )\n\u001b[1;32m--> 311\u001b[1;33m             \u001b[1;32mreturn\u001b[0m \u001b[0mfunc\u001b[0m\u001b[1;33m(\u001b[0m\u001b[1;33m*\u001b[0m\u001b[0margs\u001b[0m\u001b[1;33m,\u001b[0m \u001b[1;33m**\u001b[0m\u001b[0mkwargs\u001b[0m\u001b[1;33m)\u001b[0m\u001b[1;33m\u001b[0m\u001b[1;33m\u001b[0m\u001b[0m\n\u001b[0m\u001b[0;32m    312\u001b[0m \u001b[1;33m\u001b[0m\u001b[0m\n\u001b[0;32m    313\u001b[0m         \u001b[1;32mreturn\u001b[0m \u001b[0mwrapper\u001b[0m\u001b[1;33m\u001b[0m\u001b[1;33m\u001b[0m\u001b[0m\n",
      "\u001b[1;32mE:\\ProgramData\\Anaconda3\\lib\\site-packages\\pandas\\io\\parsers\\readers.py\u001b[0m in \u001b[0;36mread_csv\u001b[1;34m(filepath_or_buffer, sep, delimiter, header, names, index_col, usecols, squeeze, prefix, mangle_dupe_cols, dtype, engine, converters, true_values, false_values, skipinitialspace, skiprows, skipfooter, nrows, na_values, keep_default_na, na_filter, verbose, skip_blank_lines, parse_dates, infer_datetime_format, keep_date_col, date_parser, dayfirst, cache_dates, iterator, chunksize, compression, thousands, decimal, lineterminator, quotechar, quoting, doublequote, escapechar, comment, encoding, encoding_errors, dialect, error_bad_lines, warn_bad_lines, on_bad_lines, delim_whitespace, low_memory, memory_map, float_precision, storage_options)\u001b[0m\n\u001b[0;32m    676\u001b[0m     \u001b[0mkwds\u001b[0m\u001b[1;33m.\u001b[0m\u001b[0mupdate\u001b[0m\u001b[1;33m(\u001b[0m\u001b[0mkwds_defaults\u001b[0m\u001b[1;33m)\u001b[0m\u001b[1;33m\u001b[0m\u001b[1;33m\u001b[0m\u001b[0m\n\u001b[0;32m    677\u001b[0m \u001b[1;33m\u001b[0m\u001b[0m\n\u001b[1;32m--> 678\u001b[1;33m     \u001b[1;32mreturn\u001b[0m \u001b[0m_read\u001b[0m\u001b[1;33m(\u001b[0m\u001b[0mfilepath_or_buffer\u001b[0m\u001b[1;33m,\u001b[0m \u001b[0mkwds\u001b[0m\u001b[1;33m)\u001b[0m\u001b[1;33m\u001b[0m\u001b[1;33m\u001b[0m\u001b[0m\n\u001b[0m\u001b[0;32m    679\u001b[0m \u001b[1;33m\u001b[0m\u001b[0m\n\u001b[0;32m    680\u001b[0m \u001b[1;33m\u001b[0m\u001b[0m\n",
      "\u001b[1;32mE:\\ProgramData\\Anaconda3\\lib\\site-packages\\pandas\\io\\parsers\\readers.py\u001b[0m in \u001b[0;36m_read\u001b[1;34m(filepath_or_buffer, kwds)\u001b[0m\n\u001b[0;32m    573\u001b[0m \u001b[1;33m\u001b[0m\u001b[0m\n\u001b[0;32m    574\u001b[0m     \u001b[1;31m# Create the parser.\u001b[0m\u001b[1;33m\u001b[0m\u001b[1;33m\u001b[0m\u001b[0m\n\u001b[1;32m--> 575\u001b[1;33m     \u001b[0mparser\u001b[0m \u001b[1;33m=\u001b[0m \u001b[0mTextFileReader\u001b[0m\u001b[1;33m(\u001b[0m\u001b[0mfilepath_or_buffer\u001b[0m\u001b[1;33m,\u001b[0m \u001b[1;33m**\u001b[0m\u001b[0mkwds\u001b[0m\u001b[1;33m)\u001b[0m\u001b[1;33m\u001b[0m\u001b[1;33m\u001b[0m\u001b[0m\n\u001b[0m\u001b[0;32m    576\u001b[0m \u001b[1;33m\u001b[0m\u001b[0m\n\u001b[0;32m    577\u001b[0m     \u001b[1;32mif\u001b[0m \u001b[0mchunksize\u001b[0m \u001b[1;32mor\u001b[0m \u001b[0miterator\u001b[0m\u001b[1;33m:\u001b[0m\u001b[1;33m\u001b[0m\u001b[1;33m\u001b[0m\u001b[0m\n",
      "\u001b[1;32mE:\\ProgramData\\Anaconda3\\lib\\site-packages\\pandas\\io\\parsers\\readers.py\u001b[0m in \u001b[0;36m__init__\u001b[1;34m(self, f, engine, **kwds)\u001b[0m\n\u001b[0;32m    930\u001b[0m \u001b[1;33m\u001b[0m\u001b[0m\n\u001b[0;32m    931\u001b[0m         \u001b[0mself\u001b[0m\u001b[1;33m.\u001b[0m\u001b[0mhandles\u001b[0m\u001b[1;33m:\u001b[0m \u001b[0mIOHandles\u001b[0m \u001b[1;33m|\u001b[0m \u001b[1;32mNone\u001b[0m \u001b[1;33m=\u001b[0m \u001b[1;32mNone\u001b[0m\u001b[1;33m\u001b[0m\u001b[1;33m\u001b[0m\u001b[0m\n\u001b[1;32m--> 932\u001b[1;33m         \u001b[0mself\u001b[0m\u001b[1;33m.\u001b[0m\u001b[0m_engine\u001b[0m \u001b[1;33m=\u001b[0m \u001b[0mself\u001b[0m\u001b[1;33m.\u001b[0m\u001b[0m_make_engine\u001b[0m\u001b[1;33m(\u001b[0m\u001b[0mf\u001b[0m\u001b[1;33m,\u001b[0m \u001b[0mself\u001b[0m\u001b[1;33m.\u001b[0m\u001b[0mengine\u001b[0m\u001b[1;33m)\u001b[0m\u001b[1;33m\u001b[0m\u001b[1;33m\u001b[0m\u001b[0m\n\u001b[0m\u001b[0;32m    933\u001b[0m \u001b[1;33m\u001b[0m\u001b[0m\n\u001b[0;32m    934\u001b[0m     \u001b[1;32mdef\u001b[0m \u001b[0mclose\u001b[0m\u001b[1;33m(\u001b[0m\u001b[0mself\u001b[0m\u001b[1;33m)\u001b[0m\u001b[1;33m:\u001b[0m\u001b[1;33m\u001b[0m\u001b[1;33m\u001b[0m\u001b[0m\n",
      "\u001b[1;32mE:\\ProgramData\\Anaconda3\\lib\\site-packages\\pandas\\io\\parsers\\readers.py\u001b[0m in \u001b[0;36m_make_engine\u001b[1;34m(self, f, engine)\u001b[0m\n\u001b[0;32m   1214\u001b[0m             \u001b[1;31m# \"Union[str, PathLike[str], ReadCsvBuffer[bytes], ReadCsvBuffer[str]]\"\u001b[0m\u001b[1;33m\u001b[0m\u001b[1;33m\u001b[0m\u001b[0m\n\u001b[0;32m   1215\u001b[0m             \u001b[1;31m# , \"str\", \"bool\", \"Any\", \"Any\", \"Any\", \"Any\", \"Any\"\u001b[0m\u001b[1;33m\u001b[0m\u001b[1;33m\u001b[0m\u001b[0m\n\u001b[1;32m-> 1216\u001b[1;33m             self.handles = get_handle(  # type: ignore[call-overload]\n\u001b[0m\u001b[0;32m   1217\u001b[0m                 \u001b[0mf\u001b[0m\u001b[1;33m,\u001b[0m\u001b[1;33m\u001b[0m\u001b[1;33m\u001b[0m\u001b[0m\n\u001b[0;32m   1218\u001b[0m                 \u001b[0mmode\u001b[0m\u001b[1;33m,\u001b[0m\u001b[1;33m\u001b[0m\u001b[1;33m\u001b[0m\u001b[0m\n",
      "\u001b[1;32mE:\\ProgramData\\Anaconda3\\lib\\site-packages\\pandas\\io\\common.py\u001b[0m in \u001b[0;36mget_handle\u001b[1;34m(path_or_buf, mode, encoding, compression, memory_map, is_text, errors, storage_options)\u001b[0m\n\u001b[0;32m    784\u001b[0m         \u001b[1;32mif\u001b[0m \u001b[0mioargs\u001b[0m\u001b[1;33m.\u001b[0m\u001b[0mencoding\u001b[0m \u001b[1;32mand\u001b[0m \u001b[1;34m\"b\"\u001b[0m \u001b[1;32mnot\u001b[0m \u001b[1;32min\u001b[0m \u001b[0mioargs\u001b[0m\u001b[1;33m.\u001b[0m\u001b[0mmode\u001b[0m\u001b[1;33m:\u001b[0m\u001b[1;33m\u001b[0m\u001b[1;33m\u001b[0m\u001b[0m\n\u001b[0;32m    785\u001b[0m             \u001b[1;31m# Encoding\u001b[0m\u001b[1;33m\u001b[0m\u001b[1;33m\u001b[0m\u001b[0m\n\u001b[1;32m--> 786\u001b[1;33m             handle = open(\n\u001b[0m\u001b[0;32m    787\u001b[0m                 \u001b[0mhandle\u001b[0m\u001b[1;33m,\u001b[0m\u001b[1;33m\u001b[0m\u001b[1;33m\u001b[0m\u001b[0m\n\u001b[0;32m    788\u001b[0m                 \u001b[0mioargs\u001b[0m\u001b[1;33m.\u001b[0m\u001b[0mmode\u001b[0m\u001b[1;33m,\u001b[0m\u001b[1;33m\u001b[0m\u001b[1;33m\u001b[0m\u001b[0m\n",
      "\u001b[1;31mFileNotFoundError\u001b[0m: [Errno 2] No such file or directory: '/kaggle/input/smoking-dataset-from-uk/smoking.csv'"
     ]
    }
   ],
   "source": [
    "import pandas as pd\n",
    "import numpy as np\n",
    "\n",
    "data = pd.read_csv('/kaggle/input/smoking-dataset-from-uk/smoking.csv')\n",
    "df = pd.DataFrame(data, columns=['gender', 'age', 'marital_status',\n",
    "       'highest_qualification', 'nationality', 'ethnicity', 'gross_income',\n",
    "       'region', 'smoke'])\n",
    "\n",
    "df.fillna(0, inplace=True)\n",
    "\n",
    "\n",
    "\n",
    "def male_female(smoke, gender):\n",
    "    data = df[(df['gender'] == gender) & (df['marital_status'] == 'Married') & (df['highest_qualification'] == 'Degree')\n",
    "             & (df['nationality'] == 'English') & (df['ethnicity'] == 'White') & (df['smoke'] == smoke)]\n",
    "    return data\n",
    "\n",
    "# Conditions Male & Female = Married Degree British White Smoke Yes\n",
    "\n",
    "male_df = male_female('Yes', 'Male')\n",
    "female_df = male_female('Yes', 'Female')\n",
    "\n",
    "# # Conditions Male & Female = Married Degree British White Smoke No\n",
    "\n",
    "# male_df = df[(df['gender'] == 'Male') & (df['marital_status'] == 'Married') & (df['highest_qualification'] == 'Degree')\n",
    "#              & (df['nationality'] == 'English') & (df['ethnicity'] == 'White') & (df['smoke'] == 'No')]\n",
    "\n",
    "# female_df = df[(df['gender'] == 'Female') & (df['marital_status'] == 'Married') & (df['highest_qualification'] == 'Degree')\n",
    "#              & (df['nationality'] == 'English') & (df['ethnicity'] == 'White') & (df['smoke'] == 'No')]\n",
    "\n",
    "\n",
    "# male_df.head(40)\n",
    "# print(min(df['age']))\n",
    "# print(max(df['age']))"
   ]
  },
  {
   "cell_type": "code",
   "execution_count": null,
   "id": "eaedc560",
   "metadata": {},
   "outputs": [],
   "source": [
    "import pandas as pd\n",
    "import numpy as np\n",
    "import matplotlib.pyplot as plt\n",
    "\n",
    "data = pd.read_csv('/kaggle/input/smoking-dataset-from-uk/smoking.csv')\n",
    "df = pd.DataFrame(data, columns=['gender', 'age', 'marital_status',\n",
    "       'highest_qualification', 'nationality', 'ethnicity', 'gross_income',\n",
    "       'region', 'smoke'])\n",
    "\n",
    "df.fillna(0, inplace=True)\n",
    "\n",
    "def male_female(smoke, gender):\n",
    "    data = df[(df['gender'] == gender) & (df['marital_status'] == 'Married') & (df['highest_qualification'] == 'Degree')\n",
    "              & (df['smoke'] == smoke)]\n",
    "    return data\n",
    "\n",
    "# Conditions Male & Female = Married Degree British White Smoke Yes\n",
    "\n",
    "male_df = male_female('No', 'Male')\n",
    "female_df = male_female('No', 'Female')\n",
    "\n",
    "male_smoke_count = male_df['smoke'].value_counts().get('No', 0)\n",
    "female_smoke_count = female_df['smoke'].value_counts().get('No', 0)\n",
    "\n",
    "# Data for plotting\n",
    "labels = ['Male', 'Female']\n",
    "smoke_counts = [male_smoke_count, female_smoke_count]\n",
    "\n",
    "# Create a bar chart\n",
    "plt.bar(labels, smoke_counts, color=['blue', 'pink'])\n",
    "plt.xlabel('Gender')\n",
    "plt.ylabel('Number of Smokers')\n",
    "plt.title('Number of Male and Female Married & Smokers')\n",
    "plt.show()\n",
    "\n",
    "# # Conditions Male & Female = Married Degree British White Smoke No\n",
    "\n",
    "# male_df = df[(df['gender'] == 'Male') & (df['marital_status'] == 'Married') & (df['highest_qualification'] == 'Degree')\n",
    "#              & (df['nationality'] == 'English') & (df['ethnicity'] == 'White') & (df['smoke'] == 'No')]\n",
    "\n",
    "# female_df = df[(df['gender'] == 'Female') & (df['marital_status'] == 'Married') & (df['highest_qualification'] == 'Degree')\n",
    "#              & (df['nationality'] == 'English') & (df['ethnicity'] == 'White') & (df['smoke'] == 'No')]\n",
    "\n",
    "\n",
    "# male_df.head(40)\n",
    "# female_df.head(40)\n",
    "# print(min(df['age']))\n",
    "# print(max(df['age']))"
   ]
  },
  {
   "cell_type": "code",
   "execution_count": null,
   "id": "bc6ad21c",
   "metadata": {},
   "outputs": [],
   "source": []
  }
 ],
 "metadata": {
  "kernelspec": {
   "display_name": "Python 3 (ipykernel)",
   "language": "python",
   "name": "python3"
  },
  "language_info": {
   "codemirror_mode": {
    "name": "ipython",
    "version": 3
   },
   "file_extension": ".py",
   "mimetype": "text/x-python",
   "name": "python",
   "nbconvert_exporter": "python",
   "pygments_lexer": "ipython3",
   "version": "3.9.13"
  }
 },
 "nbformat": 4,
 "nbformat_minor": 5
}
