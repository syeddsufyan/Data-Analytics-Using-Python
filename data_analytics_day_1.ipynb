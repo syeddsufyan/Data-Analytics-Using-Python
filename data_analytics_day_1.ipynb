{
 "cells": [
  {
   "cell_type": "code",
   "execution_count": 81,
   "id": "f5aa02cf",
   "metadata": {},
   "outputs": [
    {
     "name": "stdout",
     "output_type": "stream",
     "text": [
      "[(b'abc', 21,  50.) (b'xyz', 16, 283.)]\n"
     ]
    }
   ],
   "source": [
    "import numpy as np\n",
    "# a = np.array([2,4,5,6], dtype=, ndmin=0)\n",
    "# print(a)\n",
    "\n",
    "# dt = np.dtype([('age', np.int8)])\n",
    "# a = np.array([(10),(20),(30)], dtype=dt)\n",
    "# for n in a:\n",
    "#     print(n['age'])\n",
    "\n",
    "student = np.dtype([('name', 'S20'), ('age', 'i1'), ('marks', 'f4')])\n",
    "a = np.array([('abc',21,50), ('xyz', 16,283)], dtype=student)\n",
    "print(a)\n",
    "\n"
   ]
  }
 ],
 "metadata": {
  "kernelspec": {
   "display_name": "Python 3 (ipykernel)",
   "language": "python",
   "name": "python3"
  },
  "language_info": {
   "codemirror_mode": {
    "name": "ipython",
    "version": 3
   },
   "file_extension": ".py",
   "mimetype": "text/x-python",
   "name": "python",
   "nbconvert_exporter": "python",
   "pygments_lexer": "ipython3",
   "version": "3.9.13"
  }
 },
 "nbformat": 4,
 "nbformat_minor": 5
}
